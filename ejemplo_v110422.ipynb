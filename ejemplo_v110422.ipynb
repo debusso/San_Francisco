{
 "cells": [
  {
   "cell_type": "markdown",
   "id": "65120843-2a3c-4c2d-9c3a-86c97b779156",
   "metadata": {},
   "source": [
    "# Ejemplo en pagina https://machinelearningmastery.com/how-to-use-statistics-to-identify-outliers-in-data/\n"
   ]
  },
  {
   "cell_type": "code",
   "execution_count": 1,
   "id": "68b6fa34-3e32-4b25-96f0-31d6b695d653",
   "metadata": {
    "colab": {
     "base_uri": "https://localhost:8080/"
    },
    "executionInfo": {
     "elapsed": 973,
     "status": "ok",
     "timestamp": 1637115290396,
     "user": {
      "displayName": "Daniel Eduardo Busso",
      "photoUrl": "https://lh3.googleusercontent.com/a-/AOh14GjGHRoC4oOxFn0Yu-KdurF5i7AS6wSLZncbVe1Nxg=s64",
      "userId": "06824887177846301087"
     },
     "user_tz": 180
    },
    "id": "77c91a81-f42b-4d04-9e0d-8cd94540d860",
    "outputId": "b576f7ce-552f-4f3d-f2ad-de1bfcb12d6f"
   },
   "outputs": [],
   "source": [
    "# -*- coding: utf-8 -*-\n",
    "\"\"\"\n",
    "Created on Viernes 8 Octubre 2021 17:43:11 \n",
    "\n",
    "@author: Daniel Busso\n",
    "\"\"\"\n",
    "\n",
    "# Plantilla de Pre Procesado\n",
    "\n",
    "# Cómo importar las librerías\n",
    "import numpy    as np\n",
    "import pandas   as pd\n",
    "import datetime as dt\n",
    "import os\n",
    "\n",
    "# Gráficos\n",
    "# ==============================================================================\n",
    "import matplotlib.pyplot as plt\n",
    "import seaborn as sns\n",
    "%matplotlib inline\n",
    "plt.style.use('fivethirtyeight')\n",
    "\n",
    "from statsmodels.graphics.tsaplots import plot_acf\n",
    "from statsmodels.graphics.tsaplots import plot_pacf\n",
    "\n",
    "\n",
    "# Configuración warnings\n",
    "# ==============================================================================\n",
    "import warnings\n",
    "warnings.filterwarnings('ignore')"
   ]
  },
  {
   "cell_type": "code",
   "execution_count": 2,
   "id": "68b5dc0a-3d76-4845-b0ad-4f76e083edf3",
   "metadata": {},
   "outputs": [
    {
     "name": "stdout",
     "output_type": "stream",
     "text": [
      "mean=50.049 stdv=4.994\n"
     ]
    }
   ],
   "source": [
    "# generate gaussian data\n",
    "from numpy.random import seed\n",
    "from numpy.random import randn\n",
    "from numpy import mean\n",
    "from numpy import std\n",
    "# seed the random number generator\n",
    "seed(1)\n",
    "# generate univariate observations\n",
    "data = 5 * randn(10000) + 50\n",
    "# summarize\n",
    "print('mean=%.3f stdv=%.3f' % (mean(data), std(data)))"
   ]
  },
  {
   "cell_type": "markdown",
   "id": "065bceef-31e3-40d7-9f83-a7b62e5c5fdc",
   "metadata": {},
   "source": [
    "### Método de desviación estándar"
   ]
  },
  {
   "cell_type": "code",
   "execution_count": 3,
   "id": "d817ac90-4e2e-4839-80b4-3f794227eaa8",
   "metadata": {},
   "outputs": [],
   "source": [
    " ...\n",
    "# calculate summary statistics\n",
    "data_mean, data_std = mean(data), std(data)\n",
    "# identify outliers\n",
    "cut_off = data_std * 3\n",
    "lower, upper = data_mean - cut_off, data_mean + cut_off"
   ]
  },
  {
   "cell_type": "code",
   "execution_count": 4,
   "id": "cdab7adf-d5fa-47aa-a8c1-9aa91ad4187f",
   "metadata": {},
   "outputs": [],
   "source": [
    "...\n",
    "# identify outliers\n",
    "outliers = [x for x in data if x < lower or x > upper]"
   ]
  },
  {
   "cell_type": "code",
   "execution_count": 5,
   "id": "ea7e7dcf-e56d-4aa6-a766-9aa5ea1af1b3",
   "metadata": {},
   "outputs": [
    {
     "data": {
      "text/plain": [
       "[65.15428556186015,\n",
       " 69.79301352018982,\n",
       " 66.60539378085183,\n",
       " 34.73117809786848,\n",
       " 34.23321274904475,\n",
       " 34.91984007395351,\n",
       " 67.1633171589778,\n",
       " 34.679293219474495,\n",
       " 68.70124451852294,\n",
       " 65.67523670043954,\n",
       " 66.19171598376188,\n",
       " 33.73482882511691,\n",
       " 65.66014864070253,\n",
       " 65.06377284118616,\n",
       " 34.0469182658796,\n",
       " 33.6969245211173,\n",
       " 67.02151137874486,\n",
       " 65.59239795391275,\n",
       " 66.49270261640393,\n",
       " 65.74492012609815,\n",
       " 33.525707966507426,\n",
       " 34.72183379792847,\n",
       " 70.1342452227369,\n",
       " 33.90433947188079,\n",
       " 65.55945915508362,\n",
       " 68.06638503541573,\n",
       " 66.99057828251213,\n",
       " 67.80436660352774,\n",
       " 31.717799503726024]"
      ]
     },
     "execution_count": 5,
     "metadata": {},
     "output_type": "execute_result"
    }
   ],
   "source": [
    "outliers"
   ]
  },
  {
   "cell_type": "code",
   "execution_count": 6,
   "id": "0b85ec7b-ff04-4ba2-8b74-32f5abd9d350",
   "metadata": {},
   "outputs": [
    {
     "data": {
      "text/plain": [
       "29"
      ]
     },
     "execution_count": 6,
     "metadata": {},
     "output_type": "execute_result"
    }
   ],
   "source": [
    "len(outliers)"
   ]
  },
  {
   "cell_type": "code",
   "execution_count": null,
   "id": "588deb8a-6ad0-4aa0-a689-e8a28ba6efa8",
   "metadata": {},
   "outputs": [],
   "source": []
  },
  {
   "cell_type": "code",
   "execution_count": 7,
   "id": "f95d85e8-73ad-4559-8dc7-c567bd551030",
   "metadata": {},
   "outputs": [
    {
     "data": {
      "text/plain": [
       "numpy.ndarray"
      ]
     },
     "execution_count": 7,
     "metadata": {},
     "output_type": "execute_result"
    }
   ],
   "source": [
    "type(data)"
   ]
  },
  {
   "cell_type": "code",
   "execution_count": 8,
   "id": "690791d9-e28e-48c6-a007-e6a2dbcf5147",
   "metadata": {},
   "outputs": [
    {
     "data": {
      "text/plain": [
       "array([58.12172682, 46.94121793, 47.35914124, ..., 44.92928092,\n",
       "       49.68651887, 42.81065054])"
      ]
     },
     "execution_count": 8,
     "metadata": {},
     "output_type": "execute_result"
    }
   ],
   "source": [
    "data"
   ]
  },
  {
   "cell_type": "code",
   "execution_count": 9,
   "id": "bb04a955-60d5-4ad3-ac2d-cae3d9d1e06b",
   "metadata": {},
   "outputs": [],
   "source": [
    "...\n",
    "# remove outliers\n",
    "outliers_removed = [x for x in data if x > lower and x < upper]"
   ]
  },
  {
   "cell_type": "code",
   "execution_count": 10,
   "id": "5a6bee1d-55d4-4a4a-a8b0-3078c28e83eb",
   "metadata": {},
   "outputs": [
    {
     "data": {
      "text/plain": [
       "9971"
      ]
     },
     "execution_count": 10,
     "metadata": {},
     "output_type": "execute_result"
    }
   ],
   "source": [
    "len(outliers_removed)"
   ]
  },
  {
   "cell_type": "code",
   "execution_count": 11,
   "id": "78c16bfc-b4aa-4f8a-a681-74505026ea82",
   "metadata": {},
   "outputs": [
    {
     "data": {
      "text/plain": [
       "(10000,)"
      ]
     },
     "execution_count": 11,
     "metadata": {},
     "output_type": "execute_result"
    }
   ],
   "source": [
    "data.shape"
   ]
  },
  {
   "cell_type": "markdown",
   "id": "ab3e926e-6149-4870-9d25-a076249fee01",
   "metadata": {},
   "source": [
    "### Método de rango intercuartílico"
   ]
  },
  {
   "cell_type": "code",
   "execution_count": 12,
   "id": "b8409a88-8995-445a-8892-ec58d7a73503",
   "metadata": {},
   "outputs": [],
   "source": [
    "...\n",
    "# calculate interquartile range\n",
    "q25, q75 = np.percentile(data, 25), np.percentile(data, 75)\n",
    "iqr = q75 - q25"
   ]
  },
  {
   "cell_type": "code",
   "execution_count": 13,
   "id": "19efce68-9620-4205-a30c-8255fcdae3ca",
   "metadata": {},
   "outputs": [
    {
     "data": {
      "text/plain": [
       "53.35904417735179"
      ]
     },
     "execution_count": 13,
     "metadata": {},
     "output_type": "execute_result"
    }
   ],
   "source": [
    "q75"
   ]
  },
  {
   "cell_type": "code",
   "execution_count": 14,
   "id": "3aa86bdf-3335-4eff-9370-f065d72db6c8",
   "metadata": {},
   "outputs": [
    {
     "data": {
      "text/plain": [
       "6.673668386862346"
      ]
     },
     "execution_count": 14,
     "metadata": {},
     "output_type": "execute_result"
    }
   ],
   "source": [
    "iqr"
   ]
  },
  {
   "cell_type": "code",
   "execution_count": 15,
   "id": "2f305d5d-b5a1-44dc-b720-a9656936d3ee",
   "metadata": {},
   "outputs": [],
   "source": [
    "...\n",
    "# calculate the outlier cutoff\n",
    "bigote = iqr * 1.5\n",
    "lower, upper = q25 - bigote, q75 + bigote"
   ]
  },
  {
   "cell_type": "code",
   "execution_count": 16,
   "id": "1e748dda-7897-4945-9df5-10db246763c4",
   "metadata": {},
   "outputs": [
    {
     "data": {
      "text/plain": [
       "36.674873210195926"
      ]
     },
     "execution_count": 16,
     "metadata": {},
     "output_type": "execute_result"
    }
   ],
   "source": [
    "lower"
   ]
  },
  {
   "cell_type": "code",
   "execution_count": 17,
   "id": "49663fce-9bbb-427d-b13f-19eb31cde990",
   "metadata": {},
   "outputs": [
    {
     "data": {
      "text/plain": [
       "63.36954675764531"
      ]
     },
     "execution_count": 17,
     "metadata": {},
     "output_type": "execute_result"
    }
   ],
   "source": [
    "upper"
   ]
  },
  {
   "cell_type": "code",
   "execution_count": 18,
   "id": "f467dd82-1fd1-4574-8775-f1ea8f9929a8",
   "metadata": {},
   "outputs": [],
   "source": [
    "...\n",
    "# identify outliers\n",
    "outliers = [x for x in data if x < lower or x > upper]"
   ]
  },
  {
   "cell_type": "code",
   "execution_count": 19,
   "id": "57f4b206-fe8a-4b65-a3e4-8e4cddd6a1f1",
   "metadata": {},
   "outputs": [],
   "source": [
    "...\n",
    "# remove outliers\n",
    "outliers_removed = [x for x in data if x > lower and x < upper]"
   ]
  },
  {
   "cell_type": "code",
   "execution_count": 20,
   "id": "5dbc3c89-543d-4cb9-b980-6d4b900fb03b",
   "metadata": {},
   "outputs": [
    {
     "data": {
      "text/plain": [
       "81"
      ]
     },
     "execution_count": 20,
     "metadata": {},
     "output_type": "execute_result"
    }
   ],
   "source": [
    "len(outliers)"
   ]
  },
  {
   "cell_type": "code",
   "execution_count": 21,
   "id": "84148616-3c0f-4ce2-b44d-a6229ee0072f",
   "metadata": {},
   "outputs": [
    {
     "data": {
      "image/png": "[encoded data removed]",
      "text/plain": [
       "<Figure size 432x288 with 1 Axes>"
      ]
     },
     "metadata": {},
     "output_type": "display_data"
    }
   ],
   "source": [
    "#plt.boxplot(Trafos['TD1_MVA', 'TD2_MVA', 'TD3_MVA', 'Suma'])\n",
    "\n",
    "#data = Gene[['TG1_MVA', 'TG2_MVA', 'Suma']]\n",
    "fig1, ax1 = plt.subplots()\n",
    "ax1.set_title('Datos ')\n",
    "ax1.set_ylabel(\"datos\", fontsize=15)  # Add a y-label to the axes.\n",
    "ax1.boxplot(data)\n",
    "\n",
    "plt.show()"
   ]
  },
  {
   "cell_type": "code",
   "execution_count": null,
   "id": "96b91c64-a103-49b9-bbea-b5b51fe5f41b",
   "metadata": {},
   "outputs": [],
   "source": []
  },
  {
   "cell_type": "code",
   "execution_count": null,
   "id": "b63dae5d-f555-45fb-8044-2660de18be31",
   "metadata": {},
   "outputs": [],
   "source": []
  },
  {
   "cell_type": "code",
   "execution_count": 22,
   "id": "2c6202d0-3ada-4219-b75b-61ebf3a57394",
   "metadata": {},
   "outputs": [
    {
     "data": {
      "image/png": "[encoded data removed]",
      "text/plain": [
       "<Figure size 432x288 with 1 Axes>"
      ]
     },
     "metadata": {},
     "output_type": "display_data"
    }
   ],
   "source": [
    "# plot:\n",
    "fig, ax = plt.subplots()\n",
    "\n",
    "ax.hist(data, bins=8, linewidth=0.5, edgecolor=\"white\")\n",
    "\n",
    "#ax.set(xlim=(0, 8), xticks=np.arange(1, 8),\n",
    " #      ylim=(0, 56), yticks=np.linspace(0, 56, 9))\n",
    "\n",
    "plt.show()\n",
    "\n"
   ]
  },
  {
   "cell_type": "code",
   "execution_count": 23,
   "id": "cabca82b-18e3-444d-9ed3-623315e4f597",
   "metadata": {},
   "outputs": [
    {
     "data": {
      "image/png": "[encoded data removed]",
      "text/plain": [
       "<Figure size 432x288 with 1 Axes>"
      ]
     },
     "metadata": {},
     "output_type": "display_data"
    }
   ],
   "source": [
    "x = np.random.normal(size=1000), \n",
    "plt.hist(x, bins=50)\n",
    "plt.gca().set(title='Histograma de Frecuencia', ylabel='Frecuencia');"
   ]
  },
  {
   "cell_type": "markdown",
   "id": "1be81dbf-f87d-4a80-ac3c-69acca63d370",
   "metadata": {},
   "source": [
    "## https://www.machinelearningplus.com/plots/matplotlib-histogram-python-examples/"
   ]
  },
  {
   "cell_type": "code",
   "execution_count": 24,
   "id": "02048bd1-bc11-40b6-beae-3ea65ce27456",
   "metadata": {},
   "outputs": [
    {
     "data": {
      "image/png": "[encoded data removed]",
      "text/plain": [
       "<Figure size 432x288 with 1 Axes>"
      ]
     },
     "metadata": {},
     "output_type": "display_data"
    }
   ],
   "source": [
    "x = np.random.normal(size=1000), \n",
    "plt.hist(data, bins=50)\n",
    "plt.gca().set(title='Histograma de Frecuencia', ylabel='Frecuencia');"
   ]
  },
  {
   "cell_type": "code",
   "execution_count": 25,
   "id": "60ad3988-3f8a-4ff4-9e33-f84948678aa4",
   "metadata": {},
   "outputs": [],
   "source": [
    "s1 = pd.Series(['a', 'b'])\n",
    "s2 = pd.Series(['c', 'd'])\n"
   ]
  },
  {
   "cell_type": "code",
   "execution_count": 26,
   "id": "c761737b-01c1-4525-9a85-f6c0f0df4dd7",
   "metadata": {},
   "outputs": [
    {
     "data": {
      "text/plain": [
       "0    a\n",
       "1    b\n",
       "dtype: object"
      ]
     },
     "execution_count": 26,
     "metadata": {},
     "output_type": "execute_result"
    }
   ],
   "source": [
    "s1"
   ]
  },
  {
   "cell_type": "code",
   "execution_count": 27,
   "id": "a96f7848-5ad2-4a28-b71b-d28ac550bdfe",
   "metadata": {},
   "outputs": [
    {
     "data": {
      "text/plain": [
       "0    c\n",
       "1    d\n",
       "dtype: object"
      ]
     },
     "execution_count": 27,
     "metadata": {},
     "output_type": "execute_result"
    }
   ],
   "source": [
    "s2"
   ]
  },
  {
   "cell_type": "code",
   "execution_count": 28,
   "id": "c614ae3d-babb-48de-977f-b344119f2ecc",
   "metadata": {},
   "outputs": [],
   "source": [
    "con = pd.concat([s1, s2], ignore_index=True)"
   ]
  },
  {
   "cell_type": "code",
   "execution_count": 29,
   "id": "8f9ff790-7d19-4609-bc6c-437ee9a28800",
   "metadata": {},
   "outputs": [
    {
     "data": {
      "text/plain": [
       "0    a\n",
       "1    b\n",
       "2    c\n",
       "3    d\n",
       "dtype: object"
      ]
     },
     "execution_count": 29,
     "metadata": {},
     "output_type": "execute_result"
    }
   ],
   "source": [
    "con"
   ]
  },
  {
   "cell_type": "code",
   "execution_count": 30,
   "id": "1d1b04f5-0a3a-476f-a803-34fede640d0f",
   "metadata": {},
   "outputs": [],
   "source": [
    "c = pd.concat([s1, s2], axis=1)"
   ]
  },
  {
   "cell_type": "code",
   "execution_count": 31,
   "id": "5e4665b2-7439-4441-8639-014a2b0a124e",
   "metadata": {},
   "outputs": [
    {
     "data": {
      "text/html": [
       "<div>\n",
       "<style scoped>\n",
       "    .dataframe tbody tr th:only-of-type {\n",
       "        vertical-align: middle;\n",
       "    }\n",
       "\n",
       "    .dataframe tbody tr th {\n",
       "        vertical-align: top;\n",
       "    }\n",
       "\n",
       "    .dataframe thead th {\n",
       "        text-align: right;\n",
       "    }\n",
       "</style>\n",
       "<table border=\"1\" class=\"dataframe\">\n",
       "  <thead>\n",
       "    <tr style=\"text-align: right;\">\n",
       "      <th></th>\n",
       "      <th>0</th>\n",
       "      <th>1</th>\n",
       "    </tr>\n",
       "  </thead>\n",
       "  <tbody>\n",
       "    <tr>\n",
       "      <th>0</th>\n",
       "      <td>a</td>\n",
       "      <td>c</td>\n",
       "    </tr>\n",
       "    <tr>\n",
       "      <th>1</th>\n",
       "      <td>b</td>\n",
       "      <td>d</td>\n",
       "    </tr>\n",
       "  </tbody>\n",
       "</table>\n",
       "</div>"
      ],
      "text/plain": [
       "   0  1\n",
       "0  a  c\n",
       "1  b  d"
      ]
     },
     "execution_count": 31,
     "metadata": {},
     "output_type": "execute_result"
    }
   ],
   "source": [
    "c"
   ]
  },
  {
   "cell_type": "code",
   "execution_count": null,
   "id": "0ed9be70-6c75-4c0d-a0a1-5d2330b13db0",
   "metadata": {},
   "outputs": [],
   "source": []
  }
 ],
 "metadata": {
  "kernelspec": {
   "display_name": "Python 3",
   "language": "python",
   "name": "python3"
  },
  "language_info": {
   "codemirror_mode": {
    "name": "ipython",
    "version": 3
   },
   "file_extension": ".py",
   "mimetype": "text/x-python",
   "name": "python",
   "nbconvert_exporter": "python",
   "pygments_lexer": "ipython3",
   "version": "3.8.8"
  }
 },
 "nbformat": 4,
 "nbformat_minor": 5
}
