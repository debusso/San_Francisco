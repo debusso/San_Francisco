{
 "cells": [
  {
   "cell_type": "markdown",
   "id": "a38e3b37-a1cc-4113-81f4-5d00d1b2f8fa",
   "metadata": {
    "id": "6899b6b0-cbd5-4e7d-9e1f-2b41a737a003"
   },
   "source": [
    "# Pronostico 2022 - 2026 Maximos Potencia Aparente ET SAN FRANCISCO  Fecha: 13/10/2021 12:55\n",
    "\n",
    "NOTAS:\n",
    "Se dispone de los datos del SITEC ordenados cada 15 minutos por Estacion \n",
    "\n",
    "1. La demanda en 13 KV del SITEC es la que soportan los trafos de la ET mas la Generacion.\n",
    "   Por tanto, los trafos soportan lo que transforma cada uno de 132 a 13 KV.\n",
    "\n",
    "2. Leer la tabla 3 de Transformadores (Guia de Referencia) y colocar ese pronostico como alternativo\n",
    "\n",
    "3. Detectar automaticamente los Outliers o Atipicos (LISTO)\n",
    "\n",
    "INFORME\n",
    " \n",
    "1. Al informe se lo presento en word o lo presento con nbviewer\n",
    "\n",
    "2. Si lo presento con word, tengo que pasar Tablaxls a Excel\n",
    "\n",
    "NO AHORA\n",
    "\n",
    ".- Anibal tiene que agregar al Grupo San Francisco la linea SFCO - LAS VARILLAS\n"
   ]
  },
  {
   "cell_type": "markdown",
   "id": "D4tdnFfn_wBv",
   "metadata": {
    "id": "D4tdnFfn_wBv"
   },
   "source": [
    "## Seteo Inicial"
   ]
  },
  {
   "cell_type": "code",
   "execution_count": 1,
   "id": "77c91a81-f42b-4d04-9e0d-8cd94540d860",
   "metadata": {
    "colab": {
     "base_uri": "https://localhost:8080/"
    },
    "executionInfo": {
     "elapsed": 973,
     "status": "ok",
     "timestamp": 1637115290396,
     "user": {
      "displayName": "Daniel Eduardo Busso",
      "photoUrl": "https://lh3.googleusercontent.com/a-/AOh14GjGHRoC4oOxFn0Yu-KdurF5i7AS6wSLZncbVe1Nxg=s64",
      "userId": "06824887177846301087"
     },
     "user_tz": 180
    },
    "id": "77c91a81-f42b-4d04-9e0d-8cd94540d860",
    "outputId": "b576f7ce-552f-4f3d-f2ad-de1bfcb12d6f"
   },
   "outputs": [],
   "source": [
    "# -*- coding: utf-8 -*-\n",
    "\"\"\"\n",
    "Created on Viernes 8 Octubre 2021 17:43:11 \n",
    "\n",
    "@author: Daniel Busso\n",
    "\"\"\"\n",
    "\n",
    "# Plantilla de Pre Procesado\n",
    "\n",
    "# Cómo importar las librerías\n",
    "import numpy    as np\n",
    "import pandas   as pd\n",
    "import datetime as dt\n",
    "import os\n",
    "\n",
    "# Gráficos\n",
    "# ==============================================================================\n",
    "import matplotlib.pyplot as plt\n",
    "import seaborn as sns\n",
    "%matplotlib inline\n",
    "#plt.style.use('fivethirtyeight')\n",
    "\n",
    "#from statsmodels.graphics.tsaplots import plot_acf\n",
    "#from statsmodels.graphics.tsaplots import plot_pacf\n",
    "\n",
    "# Configuración warnings\n",
    "# ==============================================================================\n",
    "import warnings\n",
    "warnings.filterwarnings('ignore') "
   ]
  },
  {
   "cell_type": "code",
   "execution_count": 2,
   "id": "ff6c826d-05b3-495c-997a-74113f00ae60",
   "metadata": {
    "executionInfo": {
     "elapsed": 756,
     "status": "ok",
     "timestamp": 1637115291410,
     "user": {
      "displayName": "Daniel Eduardo Busso",
      "photoUrl": "https://lh3.googleusercontent.com/a-/AOh14GjGHRoC4oOxFn0Yu-KdurF5i7AS6wSLZncbVe1Nxg=s64",
      "userId": "06824887177846301087"
     },
     "user_tz": 180
    },
    "id": "ff6c826d-05b3-495c-997a-74113f00ae60"
   },
   "outputs": [],
   "source": [
    "# Modelado y Forecasting\n",
    "# ==============================================================================\n",
    "from sklearn.linear_model import LinearRegression\n",
    "from sklearn.linear_model import Lasso\n",
    "from sklearn.linear_model import Ridge\n",
    "from sklearn.ensemble import RandomForestRegressor\n",
    "#from xgboost import XGBRegressor\n",
    "\n",
    "from sklearn.metrics import mean_squared_error\n",
    "from sklearn.metrics import mean_absolute_error\n",
    "#from sklearn.metrics import mean_absolute_percentage_error\n",
    "\n",
    "#from skforecast.ForecasterAutoreg import ForecasterAutoreg\n",
    "#from skforecast.ForecasterAutoregMultiOutput import ForecasterAutoregMultiOutput\n",
    "#from skforecast.model_selection import grid_search_forecaster\n",
    "#from skforecast.model_selection import time_series_spliter\n",
    "#from skforecast.model_selection import cv_forecaster\n",
    "#from skforecast.model_selection import backtesting_forecaster\n",
    "#from skforecast.model_selection import backtesting_forecaster_intervals"
   ]
  },
  {
   "cell_type": "code",
   "execution_count": 3,
   "id": "e0bb4fa1-131c-4dd8-b703-357ec067b3ca",
   "metadata": {
    "executionInfo": {
     "elapsed": 5,
     "status": "ok",
     "timestamp": 1637115294404,
     "user": {
      "displayName": "Daniel Eduardo Busso",
      "photoUrl": "https://lh3.googleusercontent.com/a-/AOh14GjGHRoC4oOxFn0Yu-KdurF5i7AS6wSLZncbVe1Nxg=s64",
      "userId": "06824887177846301087"
     },
     "user_tz": 180
    },
    "id": "e0bb4fa1-131c-4dd8-b703-357ec067b3ca"
   },
   "outputs": [],
   "source": [
    "# Configuracion Pandas\n",
    "\n",
    "pd.set_option('display.max_rows', 200)\n",
    "pd.set_option('display.max_columns', None)\n",
    "pd.set_option('display.width', None)\n",
    "pd.set_option('display.max_colwidth', -1)\n",
    "pd.set_option('display.float_format', '{:.2f}'.format)"
   ]
  },
  {
   "cell_type": "markdown",
   "id": "cc95d8f2-acff-47aa-a8ef-0e7b566335b2",
   "metadata": {
    "id": "cc95d8f2-acff-47aa-a8ef-0e7b566335b2"
   },
   "source": [
    "## Lectura Demandas en 13 Kv San Francisco\n",
    "Lectura y creacion del index DateTime para tratar el DataFrame como una Serie de Tiempo"
   ]
  },
  {
   "cell_type": "code",
   "execution_count": 4,
   "id": "8fba9650-74c0-45e0-8477-7dd898484364",
   "metadata": {
    "executionInfo": {
     "elapsed": 2,
     "status": "ok",
     "timestamp": 1637115296908,
     "user": {
      "displayName": "Daniel Eduardo Busso",
      "photoUrl": "https://lh3.googleusercontent.com/a-/AOh14GjGHRoC4oOxFn0Yu-KdurF5i7AS6wSLZncbVe1Nxg=s64",
      "userId": "06824887177846301087"
     },
     "user_tz": 180
    },
    "id": "8fba9650-74c0-45e0-8477-7dd898484364"
   },
   "outputs": [],
   "source": [
    "def conversion_2400(fecha):\n",
    "    if fecha[11:13] != '24':\n",
    "        return pd.to_datetime(fecha, format='%d/%m/%Y %H:%M')\n",
    "\n",
    "    fecha = fecha[0:11] + '00:' + fecha[14:]\n",
    "    return pd.to_datetime(fecha, format='%d/%m/%Y %H:%M') + dt.timedelta(days=1)"
   ]
  },
  {
   "cell_type": "code",
   "execution_count": 5,
   "id": "f77e5972-01ed-45e8-bcd4-69706f4f4081",
   "metadata": {
    "colab": {
     "base_uri": "https://localhost:8080/"
    },
    "executionInfo": {
     "elapsed": 42343,
     "status": "ok",
     "timestamp": 1637115341179,
     "user": {
      "displayName": "Daniel Eduardo Busso",
      "photoUrl": "https://lh3.googleusercontent.com/a-/AOh14GjGHRoC4oOxFn0Yu-KdurF5i7AS6wSLZncbVe1Nxg=s64",
      "userId": "06824887177846301087"
     },
     "user_tz": 180
    },
    "id": "ryp9gOn4ZRmf",
    "outputId": "36cd65ad-81c2-4db5-c3d7-ab9a25d29d21"
   },
   "outputs": [
    {
     "data": {
      "text/html": [
       "<div>\n",
       "<style scoped>\n",
       "    .dataframe tbody tr th:only-of-type {\n",
       "        vertical-align: middle;\n",
       "    }\n",
       "\n",
       "    .dataframe tbody tr th {\n",
       "        vertical-align: top;\n",
       "    }\n",
       "\n",
       "    .dataframe thead th {\n",
       "        text-align: right;\n",
       "    }\n",
       "</style>\n",
       "<table border=\"1\" class=\"dataframe\">\n",
       "  <thead>\n",
       "    <tr style=\"text-align: right;\">\n",
       "      <th></th>\n",
       "    </tr>\n",
       "  </thead>\n",
       "  <tbody>\n",
       "  </tbody>\n",
       "</table>\n",
       "</div>"
      ],
      "text/plain": [
       "Empty DataFrame\n",
       "Columns: []\n",
       "Index: []"
      ]
     },
     "execution_count": 5,
     "metadata": {},
     "output_type": "execute_result"
    }
   ],
   "source": [
    "# EMPIEZO PROCESANDO UNA CARPETA\n",
    "# AUTOMATIZAR LECTURAS DE VARIOS ARCHIVOS .PRN ANUALES\n",
    "# lEER Y CONCATENAR LOS ARCHIVOS .prn DE LA CARPETA DSPractica/eetts/sanfrancisco\n",
    "\n",
    "import os\n",
    "import sys\n",
    "from pathlib import Path\n",
    "\n",
    "# ELEGIR PLATAFORMA WINDOWS LOCAL O GOOGLE COLABORATORY (la Nube)\n",
    "if sys.platform == 'linux' :\n",
    "  from google.colab import drive\n",
    "  drive.mount('/content/drive', force_remount=True)\n",
    "  carpeta_trabajo = Path('/content/drive/Othercomputers/LENOVO/DSPractica/eetts/san_francisco/Demanda_13') # Google Colab\n",
    "else:\n",
    "  carpeta_inicio  = Path.home()\n",
    "  carpeta_eett = Path(\"eett_prod/san_francisco/Demanda_13\")\n",
    "  carpeta_trabajo = carpeta_inicio / carpeta_eett\n",
    "\n",
    "archivos = list(carpeta_trabajo.glob('*.prn'))\n",
    "\n",
    "# Automatizacion de los DataFrames \n",
    "dfconca = pd.DataFrame([])\n",
    "for nombre_completo in archivos:\n",
    "    dfdatos = pd.read_fwf(nombre_completo, header=0, decimal=',')\n",
    "    dfconca = pd.concat([dfconca, dfdatos], ignore_index=True)\n",
    "    \n",
    "dfconca    "
   ]
  },
  {
   "cell_type": "code",
   "execution_count": 6,
   "id": "84d9d008-f872-45c2-aae1-9bdca211b45c",
   "metadata": {},
   "outputs": [
    {
     "data": {
      "text/plain": [
       "[]"
      ]
     },
     "execution_count": 6,
     "metadata": {},
     "output_type": "execute_result"
    }
   ],
   "source": [
    "archivos"
   ]
  },
  {
   "cell_type": "code",
   "execution_count": 7,
   "id": "a8758b82-1539-4632-ac21-67f558ea858f",
   "metadata": {},
   "outputs": [
    {
     "ename": "KeyError",
     "evalue": "'Ampere'",
     "output_type": "error",
     "traceback": [
      "\u001b[1;31m---------------------------------------------------------------------------\u001b[0m",
      "\u001b[1;31mKeyError\u001b[0m                                  Traceback (most recent call last)",
      "File \u001b[1;32mC:\\ProgramData\\Anaconda3\\lib\\site-packages\\pandas\\core\\indexes\\base.py:3621\u001b[0m, in \u001b[0;36mIndex.get_loc\u001b[1;34m(self, key, method, tolerance)\u001b[0m\n\u001b[0;32m   3620\u001b[0m \u001b[38;5;28;01mtry\u001b[39;00m:\n\u001b[1;32m-> 3621\u001b[0m     \u001b[38;5;28;01mreturn\u001b[39;00m \u001b[38;5;28;43mself\u001b[39;49m\u001b[38;5;241;43m.\u001b[39;49m\u001b[43m_engine\u001b[49m\u001b[38;5;241;43m.\u001b[39;49m\u001b[43mget_loc\u001b[49m\u001b[43m(\u001b[49m\u001b[43mcasted_key\u001b[49m\u001b[43m)\u001b[49m\n\u001b[0;32m   3622\u001b[0m \u001b[38;5;28;01mexcept\u001b[39;00m \u001b[38;5;167;01mKeyError\u001b[39;00m \u001b[38;5;28;01mas\u001b[39;00m err:\n",
      "File \u001b[1;32mC:\\ProgramData\\Anaconda3\\lib\\site-packages\\pandas\\_libs\\index.pyx:136\u001b[0m, in \u001b[0;36mpandas._libs.index.IndexEngine.get_loc\u001b[1;34m()\u001b[0m\n",
      "File \u001b[1;32mC:\\ProgramData\\Anaconda3\\lib\\site-packages\\pandas\\_libs\\index.pyx:163\u001b[0m, in \u001b[0;36mpandas._libs.index.IndexEngine.get_loc\u001b[1;34m()\u001b[0m\n",
      "File \u001b[1;32mpandas\\_libs\\hashtable_class_helper.pxi:5198\u001b[0m, in \u001b[0;36mpandas._libs.hashtable.PyObjectHashTable.get_item\u001b[1;34m()\u001b[0m\n",
      "File \u001b[1;32mpandas\\_libs\\hashtable_class_helper.pxi:5206\u001b[0m, in \u001b[0;36mpandas._libs.hashtable.PyObjectHashTable.get_item\u001b[1;34m()\u001b[0m\n",
      "\u001b[1;31mKeyError\u001b[0m: 'Ampere'",
      "\nThe above exception was the direct cause of the following exception:\n",
      "\u001b[1;31mKeyError\u001b[0m                                  Traceback (most recent call last)",
      "Input \u001b[1;32mIn [7]\u001b[0m, in \u001b[0;36m<cell line: 5>\u001b[1;34m()\u001b[0m\n\u001b[0;32m      1\u001b[0m \u001b[38;5;66;03m#\u001b[39;00m\n\u001b[0;32m      2\u001b[0m \u001b[38;5;66;03m# BORRAMOS COLUMNAS NO USADAS\u001b[39;00m\n\u001b[0;32m      3\u001b[0m \u001b[38;5;66;03m#\u001b[39;00m\n\u001b[1;32m----> 5\u001b[0m \u001b[38;5;28;01mdel\u001b[39;00m dfconca[\u001b[38;5;124m'\u001b[39m\u001b[38;5;124mAmpere\u001b[39m\u001b[38;5;124m'\u001b[39m]\n\u001b[0;32m      6\u001b[0m \u001b[38;5;28;01mdel\u001b[39;00m dfconca[\u001b[38;5;124m'\u001b[39m\u001b[38;5;124mKVolt\u001b[39m\u001b[38;5;124m'\u001b[39m]\n",
      "File \u001b[1;32mC:\\ProgramData\\Anaconda3\\lib\\site-packages\\pandas\\core\\generic.py:4060\u001b[0m, in \u001b[0;36mNDFrame.__delitem__\u001b[1;34m(self, key)\u001b[0m\n\u001b[0;32m   4055\u001b[0m             deleted \u001b[38;5;241m=\u001b[39m \u001b[38;5;28;01mTrue\u001b[39;00m\n\u001b[0;32m   4056\u001b[0m \u001b[38;5;28;01mif\u001b[39;00m \u001b[38;5;129;01mnot\u001b[39;00m deleted:\n\u001b[0;32m   4057\u001b[0m     \u001b[38;5;66;03m# If the above loop ran and didn't delete anything because\u001b[39;00m\n\u001b[0;32m   4058\u001b[0m     \u001b[38;5;66;03m# there was no match, this call should raise the appropriate\u001b[39;00m\n\u001b[0;32m   4059\u001b[0m     \u001b[38;5;66;03m# exception:\u001b[39;00m\n\u001b[1;32m-> 4060\u001b[0m     loc \u001b[38;5;241m=\u001b[39m \u001b[38;5;28;43mself\u001b[39;49m\u001b[38;5;241;43m.\u001b[39;49m\u001b[43maxes\u001b[49m\u001b[43m[\u001b[49m\u001b[38;5;241;43m-\u001b[39;49m\u001b[38;5;241;43m1\u001b[39;49m\u001b[43m]\u001b[49m\u001b[38;5;241;43m.\u001b[39;49m\u001b[43mget_loc\u001b[49m\u001b[43m(\u001b[49m\u001b[43mkey\u001b[49m\u001b[43m)\u001b[49m\n\u001b[0;32m   4061\u001b[0m     \u001b[38;5;28mself\u001b[39m\u001b[38;5;241m.\u001b[39m_mgr \u001b[38;5;241m=\u001b[39m \u001b[38;5;28mself\u001b[39m\u001b[38;5;241m.\u001b[39m_mgr\u001b[38;5;241m.\u001b[39midelete(loc)\n\u001b[0;32m   4063\u001b[0m \u001b[38;5;66;03m# delete from the caches\u001b[39;00m\n",
      "File \u001b[1;32mC:\\ProgramData\\Anaconda3\\lib\\site-packages\\pandas\\core\\indexes\\base.py:3623\u001b[0m, in \u001b[0;36mIndex.get_loc\u001b[1;34m(self, key, method, tolerance)\u001b[0m\n\u001b[0;32m   3621\u001b[0m     \u001b[38;5;28;01mreturn\u001b[39;00m \u001b[38;5;28mself\u001b[39m\u001b[38;5;241m.\u001b[39m_engine\u001b[38;5;241m.\u001b[39mget_loc(casted_key)\n\u001b[0;32m   3622\u001b[0m \u001b[38;5;28;01mexcept\u001b[39;00m \u001b[38;5;167;01mKeyError\u001b[39;00m \u001b[38;5;28;01mas\u001b[39;00m err:\n\u001b[1;32m-> 3623\u001b[0m     \u001b[38;5;28;01mraise\u001b[39;00m \u001b[38;5;167;01mKeyError\u001b[39;00m(key) \u001b[38;5;28;01mfrom\u001b[39;00m \u001b[38;5;21;01merr\u001b[39;00m\n\u001b[0;32m   3624\u001b[0m \u001b[38;5;28;01mexcept\u001b[39;00m \u001b[38;5;167;01mTypeError\u001b[39;00m:\n\u001b[0;32m   3625\u001b[0m     \u001b[38;5;66;03m# If we have a listlike key, _check_indexing_error will raise\u001b[39;00m\n\u001b[0;32m   3626\u001b[0m     \u001b[38;5;66;03m#  InvalidIndexError. Otherwise we fall through and re-raise\u001b[39;00m\n\u001b[0;32m   3627\u001b[0m     \u001b[38;5;66;03m#  the TypeError.\u001b[39;00m\n\u001b[0;32m   3628\u001b[0m     \u001b[38;5;28mself\u001b[39m\u001b[38;5;241m.\u001b[39m_check_indexing_error(key)\n",
      "\u001b[1;31mKeyError\u001b[0m: 'Ampere'"
     ]
    }
   ],
   "source": [
    "#\n",
    "# BORRAMOS COLUMNAS NO USADAS\n",
    "#\n",
    "\n",
    "del dfconca['Ampere']\n",
    "del dfconca['KVolt']"
   ]
  },
  {
   "cell_type": "code",
   "execution_count": null,
   "id": "28aaa523-336c-4103-abb9-e8d1de0409d5",
   "metadata": {
    "colab": {
     "base_uri": "https://localhost:8080/",
     "height": 450
    },
    "executionInfo": {
     "elapsed": 12906,
     "status": "ok",
     "timestamp": 1637115362392,
     "user": {
      "displayName": "Daniel Eduardo Busso",
      "photoUrl": "https://lh3.googleusercontent.com/a-/AOh14GjGHRoC4oOxFn0Yu-KdurF5i7AS6wSLZncbVe1Nxg=s64",
      "userId": "06824887177846301087"
     },
     "user_tz": 180
    },
    "id": "28aaa523-336c-4103-abb9-e8d1de0409d5",
    "outputId": "ed046ad1-ed05-4a97-b6fe-a3fb85319e9e"
   },
   "outputs": [],
   "source": [
    "# GENERAMOS INDICE DE FECHAS PARA MANEJAR LA SERIE DE TIEMPO\n",
    "\n",
    "dfconca['Fecha_Hora'] = dfconca['Fecha'] + ' ' + dfconca['Hora']\n",
    "dfconca['Fecha_Hora'] = dfconca.Fecha_Hora.apply(conversion_2400) # CONVERSION DE HORA 24:00 ---> 00:00\n",
    "\n",
    "dfconca.set_index('Fecha_Hora', inplace=True)\n",
    "serie     = dfconca.drop(dfconca.index[-1]) # borro la fila del nuevo anio\n",
    "serie_ord = serie.sort_index()\n",
    "\n",
    "datos = serie_ord.copy()\n",
    "demandas = datos.copy()\n",
    "demandas"
   ]
  },
  {
   "cell_type": "code",
   "execution_count": null,
   "id": "7f3d1df7-d50c-453a-82ed-ae95e50d6c0d",
   "metadata": {},
   "outputs": [],
   "source": [
    "demandas['2020-11-30']"
   ]
  },
  {
   "cell_type": "code",
   "execution_count": null,
   "id": "1762218c-0d8b-48e0-a99e-143f028e5871",
   "metadata": {},
   "outputs": [],
   "source": []
  },
  {
   "cell_type": "code",
   "execution_count": null,
   "id": "c399b1a7-eb62-4559-9e4c-a63fd9d27c9a",
   "metadata": {},
   "outputs": [],
   "source": [
    "# Gráfico boxplot para estacionalidad anual\n",
    "# ==============================================================================\n",
    "fig, ax = plt.subplots(figsize=(10, 5))\n",
    "plt.style.use('fivethirtyeight')\n",
    "\n",
    "demandas['mes'] = demandas.index.month\n",
    "demandas.boxplot(column='MVA', by='mes', ax=ax)\n",
    "demandas.groupby('mes')['MVA'].median().plot(style='o-', linewidth=0.8, ax=ax)\n",
    "ax.set_ylabel('Demanda')\n",
    "ax.set_title('Distribución demanda por mes')\n",
    "fig.suptitle('');"
   ]
  },
  {
   "cell_type": "code",
   "execution_count": null,
   "id": "b96c9ab6-1575-41cc-90dc-457f1a82f716",
   "metadata": {},
   "outputs": [],
   "source": [
    "demandas['mes'] = demandas.index.month"
   ]
  },
  {
   "cell_type": "code",
   "execution_count": null,
   "id": "d7ccd423-30cb-4b62-8774-db5933c3d645",
   "metadata": {},
   "outputs": [],
   "source": [
    "demandas['mes']"
   ]
  },
  {
   "cell_type": "code",
   "execution_count": null,
   "id": "1f259e48-3888-4337-aad5-54fe79fde8ca",
   "metadata": {},
   "outputs": [],
   "source": [
    "indice_grp = demandas.groupby('mes')['MVA']"
   ]
  },
  {
   "cell_type": "code",
   "execution_count": null,
   "id": "f1e8559c-5635-420f-9dad-61529c756b3a",
   "metadata": {},
   "outputs": [],
   "source": [
    "indice_grp.describe()"
   ]
  },
  {
   "cell_type": "code",
   "execution_count": null,
   "id": "8b3d5745-2880-4123-a416-f2adbb14ec92",
   "metadata": {},
   "outputs": [],
   "source": []
  },
  {
   "cell_type": "code",
   "execution_count": null,
   "id": "b6367119-2dae-4775-b0d5-6ebad95f0733",
   "metadata": {},
   "outputs": [],
   "source": []
  },
  {
   "cell_type": "code",
   "execution_count": null,
   "id": "e4fb0c6a-73b6-44b5-895e-a3ce37d6cd96",
   "metadata": {},
   "outputs": [],
   "source": [
    "demandas.loc['2020-12-10 15:00:00']"
   ]
  },
  {
   "cell_type": "code",
   "execution_count": null,
   "id": "5f4b1c4d-e144-4419-87d8-2511409249c5",
   "metadata": {},
   "outputs": [],
   "source": []
  },
  {
   "cell_type": "code",
   "execution_count": null,
   "id": "5fc96c9d-3bb3-407f-8430-955d3987f696",
   "metadata": {},
   "outputs": [],
   "source": []
  },
  {
   "cell_type": "code",
   "execution_count": null,
   "id": "6c83cf8a-b93a-4324-a3ca-2dd76f9e817c",
   "metadata": {},
   "outputs": [],
   "source": []
  },
  {
   "cell_type": "markdown",
   "id": "2dc42c58-15aa-46a0-9f21-728e31718828",
   "metadata": {},
   "source": [
    "## Depuracion"
   ]
  },
  {
   "cell_type": "markdown",
   "id": "78ccbcb8-75ee-476e-b02c-d144a8de6a41",
   "metadata": {},
   "source": [
    "### Duplicados"
   ]
  },
  {
   "cell_type": "code",
   "execution_count": null,
   "id": "34f910a0-001e-4751-8267-514928d6b182",
   "metadata": {},
   "outputs": [],
   "source": [
    "if datos.index.has_duplicates:\n",
    "    print('SI TIENE DUPLICADOS')\n",
    "else:\n",
    "    print('NO TIENE DUPLICADOS')"
   ]
  },
  {
   "cell_type": "markdown",
   "id": "499b3b0c-4c8d-4537-87e9-feca7c3d52df",
   "metadata": {
    "id": "499b3b0c-4c8d-4537-87e9-feca7c3d52df"
   },
   "source": [
    "### Chequeo si hay Registros / Filas Faltantes \n",
    "----> NO TIENE SENTIDO POR LA CANTIDAD DE DATOS\n",
    "\n",
    "Si dife distinto de cero, significa que faltan registros/filas en los datos del SITEC\n",
    "\n",
    "NOTA: Por el momento, no vamos a imputar estos Datos Faltantes"
   ]
  },
  {
   "cell_type": "code",
   "execution_count": null,
   "id": "39a16b10-ca43-44df-b20c-cd3e76cbf3e3",
   "metadata": {
    "colab": {
     "base_uri": "https://localhost:8080/"
    },
    "executionInfo": {
     "elapsed": 273,
     "status": "ok",
     "timestamp": 1636673595806,
     "user": {
      "displayName": "Daniel Eduardo Busso",
      "photoUrl": "https://lh3.googleusercontent.com/a-/AOh14GjGHRoC4oOxFn0Yu-KdurF5i7AS6wSLZncbVe1Nxg=s64",
      "userId": "06824887177846301087"
     },
     "user_tz": 180
    },
    "id": "39a16b10-ca43-44df-b20c-cd3e76cbf3e3",
    "outputId": "5108fdca-22db-461a-9dfd-adc40e3b5a1c"
   },
   "outputs": [],
   "source": [
    "#dti2 = pd.date_range(start='2017-01-01 00:15:00', end='2018-01-01 00:00:00', freq=\"15min\")\n",
    "#\n",
    "# No se si es tan completo porque a partir del anio 2016 las mediciones van cada 5 min\n",
    "indice_completo = pd.date_range(start=datos.index[0], end=datos.index[-1], freq=\"15min\")\n",
    "#\n",
    "dife = indice_completo.difference(datos.index)\n",
    "\n",
    "if dife.empty == False:\n",
    "    print('Faltan algunas Mediciones: ', len(dife), '% Incompletas= ', (len(dife)/len(indice_completo)*100), '% Completas= ', \\\n",
    "          (((len(indice_completo)-len(dife))/len(indice_completo))*100))\n",
    "else:\n",
    "    print('\\n')\n",
    "    print('Mediciones Completas: ', (((len(indice_completo)-len(dife))/len(indice_completo))*100))"
   ]
  },
  {
   "cell_type": "markdown",
   "id": "3eaea870-7c7a-490a-b048-f6c8e015d0f6",
   "metadata": {},
   "source": [
    "### Remover Datos Atipicos"
   ]
  },
  {
   "cell_type": "code",
   "execution_count": null,
   "id": "45c33d4b-c71c-44d9-b18f-91bfcd7af2ea",
   "metadata": {},
   "outputs": [],
   "source": [
    "# CALCULO FORMAL DE LOS LIMITES SUPERIOR E INFERIOR\n",
    "# Demanda = Transformacion 132/13 Kv + Generacion Propia\n",
    "# Demanda = TD1 + TD2 + TD3 + TG1 + TG2\n",
    "\n",
    "#Pot_Ins_Tra = pd.Series([25.0, 25.0, 25.0], index=['TD1', 'TD2', 'TD3'])\n",
    "#POT_INS_TRAFOS = Pot_Ins_Tra.sum()\n",
    "\n",
    "#Pot_Ins_Gen = pd.Series([20.0, 28.0], index=['TG1', 'TG2'])  # con cos fi = 0.8 TG1 = 16 MW y TG2 = 23 MW \n",
    "#POT_INS_GENE = Pot_Ins_Gen.sum()\n",
    "#POT_TOTAL = POT_INS_TRAFOS + POT_INS_GENE\n",
    "\n",
    "\n",
    "#indice_ini = datos.index[0] \n",
    "#delta = pd.Timedelta(value=90, unit='D')\n",
    "#indice_fin = indice_ini + delta\n",
    "#verano = datos.loc[indice_ini:indice_fin, 'MVA'] \n",
    "\n",
    "#===============================================================================================================\n",
    "# LA IDEA ES CALCULAR LOS LIMITES PARA PERIODOS ESTIVALES DE 6 MESES\n",
    "# PERIODO VERANO1  '2020-01-01':'2020-03-31'\n",
    "# PERIODO INVIERNO '2020-04-01:2020-09-30'\n",
    "# PERIODO VERANO2  '2020-10-01:2020-12-31'\n",
    "#\n",
    "def lim_sup(q75, q25):\n",
    "    IQR = q75 - q25\n",
    "    bigote = 2 * IQR\n",
    "    return (q75 + bigote)\n",
    "    \n",
    "atipicos = pd.Series([])    \n",
    "anios = ['2010', '2011', '2012', '2013', '2014', '2015', '2016', '2017', '2018', '2019', '2020', '2021']\n",
    "for anio in anios:\n",
    "    ver1i = anio + '-01-01 00' \n",
    "    ver1f = anio + '-03-31 23'\n",
    "    invi  = anio + '-04-01 00' \n",
    "    invf  = anio + '-09-30 23'\n",
    "    ver2i = anio + '-10-01 00' \n",
    "    ver2f = anio + '-12-31 23'\n",
    "    \n",
    "    #verano1  = demandas.loc[ver1i:ver1f, 'MVA'].resample('D').max()\n",
    "    #invierno = demandas.loc[invi:invf, 'MVA'].resample('D').max()\n",
    "    #verano2  = demandas.loc[ver2i:ver2f, 'MVA'].resample('D').max()\n",
    "    verano1  = demandas.loc[ver1i:ver1f, 'MVA']\n",
    "    invierno = demandas.loc[invi:invf, 'MVA']\n",
    "    verano2  = demandas.loc[ver2i:ver2f, 'MVA']\n",
    "    \n",
    "    lim_sup_ver1 = lim_sup(verano1.quantile(0.75), verano1.quantile(0.25)) \n",
    "    lim_sup_inv  = lim_sup(invierno.quantile(0.75), invierno.quantile(0.25)) \n",
    "    lim_sup_ver2 = lim_sup(verano2.quantile(0.75), verano2.quantile(0.25)) \n",
    "    \n",
    "    # REMOVER EJEMPLOS DE ATIPICOS \n",
    "    #indice1 = pd.to_datetime('2010-01-01 19:08:08')\n",
    "    #indice  = pd.to_datetime('2010-04-01 19:12:12')\n",
    "    #indice2 = pd.to_datetime('2010-10-01 19:14:14')\n",
    "    #demandas.loc[indice1, 'MVA'] = 150.0\n",
    "    #demandas.loc[indice, 'MVA'] = 150.0\n",
    "    #demandas.loc[indice2, 'MVA'] = 150.0\n",
    "    \n",
    "    # GUARDAR LOS ATIPICOS A REMOVER Y LOS VALORES\n",
    "    atipicos_ver1 = verano1[verano1   > lim_sup_ver1] \n",
    "    atipicos_inv  = invierno[invierno > lim_sup_inv]\n",
    "    atipicos_ver2 = verano2[verano2   > lim_sup_ver2]    \n",
    "    atipicos = pd.concat([atipicos, atipicos_ver1, atipicos_inv, atipicos_ver2]) \n",
    "\n",
    "atipicos_ord = atipicos.sort_index()\n",
    "datos = demandas.drop(atipicos.index)\n",
    "atipicos_ord"
   ]
  },
  {
   "cell_type": "code",
   "execution_count": null,
   "id": "9851eed5-b725-4932-9fa5-ec1bda2bdca9",
   "metadata": {},
   "outputs": [],
   "source": []
  },
  {
   "cell_type": "code",
   "execution_count": null,
   "id": "2cf8c331-edc8-48ca-83fe-66a18550844a",
   "metadata": {},
   "outputs": [],
   "source": [
    "#\n",
    "# BORRO DATOS ATIPICOS\n",
    "\n",
    "#foto = datos.loc['2017-01-27 09:30:00':'2017-01-27 09:30:00'].index\n",
    "#datos = datos.drop(foto)\n",
    "\n",
    "desde = '2020-10-06 17:15:00'\n",
    "hasta = '2020-12-14 14:45:00'\n",
    "indice = datos.loc[desde:hasta].index\n",
    "datos = datos.drop(indice)\n",
    "\n",
    "\n",
    "desde = pd.to_datetime(desde)\n",
    "hasta = pd.to_datetime(hasta)\n",
    "duracion = hasta - desde\n",
    "print('Se borro: ', duracion, 'que equivale a tantas mediciones tomadas de a 15 min') \n"
   ]
  },
  {
   "cell_type": "markdown",
   "id": "prkw_QDhWWJh",
   "metadata": {
    "id": "prkw_QDhWWJh"
   },
   "source": [
    "## Graficas Anuales"
   ]
  },
  {
   "cell_type": "markdown",
   "id": "8c86369c-b233-47df-898e-be9e6b59c882",
   "metadata": {},
   "source": [
    "### Grafica Maximos Semanales"
   ]
  },
  {
   "cell_type": "code",
   "execution_count": null,
   "id": "e8e986fc-b853-45dc-ae18-8dcb2b2e9212",
   "metadata": {},
   "outputs": [],
   "source": [
    "# GRAFICA MAXIMOS SEMANALES\n",
    "\n",
    "def Grafica_xSemana(pi, pf):\n",
    "    z = datos.loc[pi:pf, 'MVA'].resample('W').max() # Datos\n",
    "    x = z.index # Tiempo\n",
    "\n",
    "    plt.style.use('fivethirtyeight')\n",
    "    fig = plt.figure()\n",
    "    fig, grafico = plt.subplots(figsize=(30, 5), dpi=100)\n",
    "    \n",
    "    grafico.plot(x, z, lw=1, label='Potencia Aparente', marker='o')\n",
    "    grafico.set_xlabel('[ Meses ]')  # Add an x-label to the axes.\n",
    "    grafico.set_ylabel('[ MVA ]')  # Add a y-label to the axes.\n",
    "    grafico.set_title(\"POTENCIA APARENTE SEMANAL \" + pi + ' ' + pf)  # Add a title to the axes.\n",
    "    grafico.legend()  # Add a legend.\n",
    "    #grafico.annotate('Pico Max', xy=(01-31 14:45, 75), xytext=(01-31 15:00, 75), arrowprops=dict(facecolor='black', shrink=0.05)\n",
    "    #grafico.grid()\n",
    "    #fig.savefig(\"Todos_Anios_xSemana.png\")"
   ]
  },
  {
   "cell_type": "markdown",
   "id": "b2dfb6ef-d4ef-4525-b000-e1be123bed2c",
   "metadata": {},
   "source": [
    "### Grafica Por Minuto"
   ]
  },
  {
   "cell_type": "code",
   "execution_count": null,
   "id": "2GmSWWNuSGVh",
   "metadata": {
    "id": "2GmSWWNuSGVh"
   },
   "outputs": [],
   "source": [
    "# Grafica anual de la Potencia Aparente cada 15 minutos\n",
    "\n",
    "def Grafica_xmin(pi, pf):\n",
    "    y = datos.loc[pi:pf, 'MVA']\n",
    "    x = y.index\n",
    "    \n",
    "    plt.style.use('fivethirtyeight')\n",
    "    fig = plt.figure()\n",
    "    fig, grafico = plt.subplots(figsize=(30, 5), dpi=100)\n",
    "    \n",
    "    grafico.plot(x, y, lw=1.5, label='Potencia Aparente x Minuto')\n",
    "    # grafico.plot(x, y, lw=1, label='Potencia Aparente', marker='o')\n",
    "    grafico.set_xlabel('[ Meses ]')  # Add an x-label to the axes.\n",
    "    grafico.set_ylabel('[ MVA ]')  # Add a y-label to the axes.\n",
    "    grafico.set_title(\"POTENCIA APARENTE [minutos] \" + anio)  # Add a title to the axes.\n",
    "    grafico.legend()  # Add a legend.\n",
    "    \n",
    "    #grafico.grid(visible='True', which='major', axis='both', color='black', alpha=1, linewidth=0.5)\n",
    "    grafico.grid(visible='True', which='major', axis='both', color='black', linewidth=0.5)\n",
    "    grafico.grid(visible='True', which='minor', axis='both', color='black', linewidth=0.5)\n",
    "    \n",
    "    x2 = pd.date_range(start=pi+'-01-01', end=pf+'-12-31', periods=5)\n",
    "    grafico.set_xticks(x2)\n",
    "    #grafico.annotate('Pico Max', xy=(01-31 14:45, 75), xytext=(01-31 15:00, 75), arrowprops=dict(facecolor='black', shrink=0.05)\n",
    "    #grafico.grid()\n",
    "    #fig.savefig(\"Serie_Anual_15min_\"+anio+\".png\")"
   ]
  },
  {
   "cell_type": "markdown",
   "id": "0f619f20-b0fb-4abe-adc9-a9fcf87bdae8",
   "metadata": {},
   "source": [
    "### Grafica por Dia"
   ]
  },
  {
   "cell_type": "code",
   "execution_count": null,
   "id": "_wIGIXUlQpUc",
   "metadata": {
    "id": "_wIGIXUlQpUc"
   },
   "outputs": [],
   "source": [
    "# Grafica del Pico Maximo Potencia Aparente x DIA\n",
    "from matplotlib import ticker\n",
    "\n",
    "def Grafica_xDia(pi, pf):\n",
    "    y = datos.loc[pi:pf, 'MVA'].resample('D').max()\n",
    "    x = y.index\n",
    "    \n",
    "    plt.style.use('fivethirtyeight')\n",
    "    fig = plt.figure()\n",
    "    fig, grafico = plt.subplots(figsize=(30, 5), dpi=100)\n",
    "    \n",
    "    grafico.plot(x, y, lw=1.5, label='Potencia Aparente x Dia', marker='o')\n",
    "    grafico.set_xlabel('[ Meses ]')  # Add an x-label to the axes.\n",
    "    grafico.set_ylabel('[ MVA ]')  # Add a y-label to the axes.\n",
    "    grafico.set_title(\"POTENCIA APARENTE DIARIA \" + anio)  # Add a title to the axes.\n",
    "    grafico.legend()  # Add a legend.\n",
    "    \n",
    "    #grafico.grid(visible='True', which='major', axis='both', color='black', alpha=1, linewidth=0.5)\n",
    "    grafico.grid(visible='True', which='major', axis='both', color='black', linewidth=0.5)\n",
    "    grafico.grid(visible='True', which='minor', axis='both', color='black', linewidth=0.5)\n",
    "    \n",
    "    x2 = pd.date_range(start=pi+'-01-01', end=pf+'-12-31', periods=5)\n",
    "    grafico.set_xticks(x2)\n",
    "    \n",
    "    #grafico.annotate('Pico Max', xy=(01-31 14:45, 75), xytext=(01-31 15:00, 75), arrowprops=dict(facecolor='black', shrink=0.05)\n",
    "    #grafico.grid()\n",
    "    #fig.savefig(\"Serie_Anual_xDia_\"+anio+\".png\")         "
   ]
  },
  {
   "cell_type": "markdown",
   "id": "1ccb94e1-c97c-4804-921a-94f343af39a2",
   "metadata": {},
   "source": [
    "### Grafica del Pico Maximo Anual"
   ]
  },
  {
   "cell_type": "code",
   "execution_count": null,
   "id": "62428c19-25fb-4dbf-90b1-16c84f9304c4",
   "metadata": {},
   "outputs": [],
   "source": [
    "# GRAFICA DEL PICO MAXIMO POTENCIA APARENTE (CADA 15 MINUTOS) VENTANA 12 hs ANTES y 12 hs DESPUES\n",
    "#\n",
    "def Grafica_Pico_Anual(pi, pf):\n",
    "    indice_max = datos.loc[pi:pf, 'MVA'].idxmax()\n",
    "    delta = pd.Timedelta('12 hours')\n",
    "    indice_mas12   = indice_max + delta\n",
    "    indice_menos12 = indice_max - delta\n",
    "    maximo = datos.loc[indice_menos12:indice_mas12, 'MVA'].max()\n",
    "    \n",
    "    y = datos.loc[indice_menos12 : indice_mas12, 'MVA'] # Datos\n",
    "    x = y.index  # Tiempo\n",
    "    \n",
    "    plt.style.use('classic')\n",
    "    fig = plt.figure()\n",
    "    fig, ax = plt.subplots(figsize=(10, 5), dpi=100)\n",
    "    Rotulo = 'Pico: ' + str(indice_max) + ' ' + str(maximo)\n",
    "    \n",
    "    ax.plot(x, y, lw=1, label=Rotulo, marker='o')\n",
    "    ax.minorticks_on()\n",
    "    ax.grid(b=True, which='major', color='blue', alpha=1, linewidth=1, ls='-')\n",
    "    ax.grid(b=True, which='minor', color='beige', alpha=1, linewidth=1)\n",
    "    # Major Tick Label\n",
    "    # Minor Tick Label\n",
    "    plt.xticks(fontsize=15, rotation=90)\n",
    "    ax.set_xlabel('[ Horas ]', fontsize=15)  # Add an x-label to the axes.\n",
    "    ax.set_ylabel('[ MVA ]', fontsize=15)  # Add a y-label to the axes.\n",
    "    ax.set_title(\"PICO MAXIMO POTENCIA APARENTE \" + anio)  # Add a title to the axes.\n",
    "    ax.legend(loc='lower left')  # Add a legend.\n",
    "    #fig.savefig(\"Pico_Anual_\"+anio+\".png\")\n",
    "        \n",
    "    \n",
    "    #print(indice_menos12)\n",
    "    print(indice_max, datos.loc[indice_menos12:indice_mas12, 'MW'].max(), datos.loc[indice_menos12:indice_mas12, 'MVA'].max())\n",
    "    #print(indice_mas12)\n",
    "    #maximo = datos.loc[indice_max:indice_max, 'MVA']\n",
    "    #print(maximo[0])"
   ]
  },
  {
   "cell_type": "code",
   "execution_count": null,
   "id": "11113bc4-f576-4562-a997-45452e21f759",
   "metadata": {
    "id": "11113bc4-f576-4562-a997-45452e21f759",
    "outputId": "b90617db-ea63-4579-aa5c-2675be7cb285"
   },
   "outputs": [],
   "source": [
    "# LANZO LAS GRAFICAS \n",
    "\n",
    "anios = ['2010', '2011', '2012', '2013', '2014', '2015', '2016', '2017', '2018', '2019', '2020', '2021']\n",
    "\n",
    "#Grafica_xSemana(anios[0], anios[-1])\n",
    "\n",
    "for anio in anios:\n",
    "    Grafica_xmin(anio, anio)\n",
    "    Grafica_xDia(anio, anio)\n",
    "    #Grafica_Pico_Anual(anio, anio)"
   ]
  },
  {
   "cell_type": "code",
   "execution_count": null,
   "id": "bd78d2ef-f5bc-46eb-8861-8f9a87901ddf",
   "metadata": {},
   "outputs": [],
   "source": []
  },
  {
   "cell_type": "markdown",
   "id": "86c5f8a2-e497-4875-a94a-0b60189fb0d2",
   "metadata": {},
   "source": [
    "## Pronosticos"
   ]
  },
  {
   "cell_type": "markdown",
   "id": "7b29adde-b12e-4432-aa8c-ae6a4ee957df",
   "metadata": {},
   "source": [
    "### Tabla Historica"
   ]
  },
  {
   "cell_type": "code",
   "execution_count": null,
   "id": "2367dd27-30e6-4f2f-8cbc-8cace871c8ee",
   "metadata": {},
   "outputs": [],
   "source": [
    "# \n",
    "# GENERAR TABLA EXCEL CON LOS DATOS DEPURADOS\n",
    "#\n",
    "anios_hist = ['2010', '2011', '2012', '2013', '2014', '2015', '2016', '2017', '2018', '2019', '2020', '2021']\n",
    "\n",
    "Trafos = pd.Series([25.0, 25.0, 25.0], index=['TD1', 'TD2', 'TD3'])\n",
    "POT_INSTALADA = Trafos.sum()\n",
    "\n",
    "Historica = pd.DataFrame(columns = ['FECHA_HORA', 'P_MW', 'Q_MVAR', 'S_MVA'])\n",
    "\n",
    "for anio in anios_hist:\n",
    "    #Anio = pd.to_numeric(anio)\n",
    "    fecha_hora_i = datos.loc[anio:anio, 'MVA'].idxmax()\n",
    "    maximo_p     = datos.loc[fecha_hora_i, 'MW'].max()\n",
    "    maximo_q     = datos.loc[fecha_hora_i, 'MVAR'].max()\n",
    "    maximo_s     = datos.loc[fecha_hora_i, 'MVA'].max()\n",
    "    Historica.loc[anio] = [fecha_hora_i, maximo_p, maximo_q, maximo_s]  \n",
    "    \n",
    "# Columnas derivadas\n",
    "Historica['POT_INSTALADA'] = POT_INSTALADA\n",
    "Historica['CRECIMIENTO_%'] = Historica['S_MVA'].pct_change().mul(100)\n",
    "Historica['N-1'] = Historica['POT_INSTALADA'] - Trafos.max()   \n",
    "Historica['CARGA_%'] = Historica['S_MVA'] / Historica['POT_INSTALADA'] * 100\n",
    "Historica['ANIO'] = pd.to_numeric(Historica.index)\n",
    "\n",
    "nombres_columnas = ['ANIO', 'FECHA_HORA', 'P_MW', 'Q_MVAR', 'S_MVA', 'CRECIMIENTO_%', 'POT_INSTALADA', 'N-1', 'CARGA_%']\n",
    "Historica = Historica.reindex(columns=nombres_columnas)\n",
    "Historica"
   ]
  },
  {
   "cell_type": "code",
   "execution_count": null,
   "id": "155d871c-acc5-45b0-bd44-f48b04dbd9da",
   "metadata": {},
   "outputs": [],
   "source": [
    "Historica.index"
   ]
  },
  {
   "cell_type": "markdown",
   "id": "8a7d3565-9e88-41b7-ad15-98255046dd30",
   "metadata": {},
   "source": [
    "### Regresion Lineal"
   ]
  },
  {
   "cell_type": "code",
   "execution_count": null,
   "id": "de0b6452-4969-451c-93f6-62f31e977cbf",
   "metadata": {},
   "outputs": [],
   "source": [
    "pd.set_option('display.float_format', '{:.8f}'.format)\n",
    "import statsmodels.formula.api as smf\n",
    "lm = smf.ols(formula=\"S_MVA~ANIO\", data = Historica).fit()\n",
    "lm.summary2()"
   ]
  },
  {
   "cell_type": "code",
   "execution_count": null,
   "id": "99a39fb7-2196-4187-8184-5b8c492622f5",
   "metadata": {},
   "outputs": [],
   "source": [
    "pd.set_option('display.float_format', '{:.2f}'.format)\n",
    "\n",
    "Historica['S_MVA_PRED'] = lm.predict(Historica['ANIO'])\n",
    "\n",
    "nombres_columnas = ['ANIO', 'FECHA_HORA', 'P_MW', 'Q_MVAR', 'S_MVA', 'CRECIMIENTO_%', 'S_MVA_PRED', 'POT_INSTALADA', 'N-1', 'CARGA_%']\n",
    "Historica = Historica.reindex(columns=nombres_columnas)\n",
    "Historica"
   ]
  },
  {
   "cell_type": "code",
   "execution_count": null,
   "id": "1c3ccafe-a7c2-42a3-9f84-c6549109c13c",
   "metadata": {},
   "outputs": [],
   "source": [
    "print('Parametros : ', lm.params) \n",
    "print('R2 : ', lm.rsquared)"
   ]
  },
  {
   "cell_type": "markdown",
   "id": "a2bb6e7c-3187-4811-93ad-b231634cd63a",
   "metadata": {},
   "source": [
    "### Tabla de Pronosticos"
   ]
  },
  {
   "cell_type": "code",
   "execution_count": null,
   "id": "fbbe56d4-8741-40b3-a473-0717a9758175",
   "metadata": {},
   "outputs": [],
   "source": [
    "#\n",
    "#  AGREGO LOS AÑOS DE PRONOSTICO PROPIAMENTE DICHO\n",
    "#\n",
    "#Pronostico  = Tablaxls.copy()\n",
    "pd.set_option('display.float_format', '{:.2f}'.format)\n",
    "anios_pro = ['2022', '2023', '2024', '2025', '2026']\n",
    "POT_INSTALADA = Trafos.sum()\n",
    "Precaucion    = POT_INSTALADA - Trafos.max()\n",
    "\n",
    "Anio = pd.Series(pd.to_numeric(anios_pro), index=anios_pro)\n",
    "Fecha_Hora = pd.Series(np.nan, index= anios_pro)\n",
    "P_MW   = pd.Series(np.nan, index=anios_pro)\n",
    "Q_MVAR = pd.Series(np.nan, index=anios_pro)\n",
    "S_MVA  = pd.Series(np.nan, index=anios_pro)\n",
    "Crecimiento = pd.Series(np.nan, index=anios_pro)\n",
    "\n",
    "Pronostico = pd.DataFrame({'ANIO':Anio, \n",
    "                           'FECHA_HORA':Fecha_Hora, \n",
    "                           'P_MW':P_MW, \n",
    "                           'Q_MVAR':Q_MVAR,\n",
    "                           'S_MVA':S_MVA,\n",
    "                           'CRECIMIENTO_%':Crecimiento}, index=anios_pro)\n",
    "\n",
    "# El MODELO DE REGRESION LINEAL         \n",
    "Pronostico['S_MVA_PRED'] = 0.51372727*Pronostico[\"ANIO\"] - 991.015000\n",
    "#\n",
    "Pronostico['POT_INSTALADA'] = POT_INSTALADA\n",
    "Pronostico['N-1'] = Pronostico['POT_INSTALADA'] - Trafos.max()  \n",
    "Pronostico['CARGA_%'] = Pronostico['S_MVA_PRED'] / Pronostico['POT_INSTALADA'] * 100 \n",
    "\n",
    "# nombres_columnas = ['FECHA_HORA', 'P_MW', 'Q_MVAR', 'S_MVA', 'Crecimiento %', 'Pot_Instalada', 'N-1', '% Carga']\n",
    "#Tablaxls = Tablaxls.reindex(columns=nombres_columnas)\n",
    "\n",
    "Pronostico"
   ]
  },
  {
   "cell_type": "code",
   "execution_count": null,
   "id": "be65079e-911a-470b-9545-0edbd44ab65c",
   "metadata": {},
   "outputs": [],
   "source": [
    "#\n",
    "# CONCATENAR LA TABLA HISTORICA + TABLA PRONOSTICO\n",
    "#\n",
    "Tablaxls = pd.concat([Historica,Pronostico], axis = 0)\n",
    "Tablaxls"
   ]
  },
  {
   "cell_type": "markdown",
   "id": "8179db14-5939-44e3-92aa-111d2139243e",
   "metadata": {},
   "source": [
    "### Graficas al 2026"
   ]
  },
  {
   "cell_type": "code",
   "execution_count": null,
   "id": "3129c6d5-6ff6-4c18-9ba9-18f7bbfe4523",
   "metadata": {
    "id": "2GmSWWNuSGVh",
    "slideshow": {
     "slide_type": "slide"
    },
    "tags": []
   },
   "outputs": [],
   "source": [
    "# Grafica anual de la Potencia Aparente cada 15 minutos\n",
    "# (Trafos + Generacion)\n",
    "\n",
    "def Grafica_Hist_Pred():\n",
    "    plt.style.use('fivethirtyeight')\n",
    "    \n",
    "    #y = Tablaxls.loc['2010':'2021', 'S_MVA']\n",
    "    #x_y = Tablaxls.loc['2010':'2021', 'ANIO']\n",
    "    \n",
    "    y = Tablaxls.loc[:, 'S_MVA']\n",
    "    pred = Tablaxls.loc[:, 'S_MVA_PRED']\n",
    "    p_inst = Tablaxls.loc[:, 'POT_INSTALADA']\n",
    "    precau = Tablaxls.loc[:, 'N-1']\n",
    "    \n",
    "    x = Tablaxls.loc[:, 'ANIO']\n",
    "    \n",
    "    fig = plt.figure()\n",
    "    fig, grafico = plt.subplots(figsize=(15, 5), dpi=100) \n",
    "    #grafico.plot(x, y, lw=1, label='Potencia Aparente', marker='o')\n",
    "    grafico.plot(x, y, lw=3, label='Pot. Historica', marker='o', color='k')\n",
    "    grafico.plot(x, pred, lw=3, label='Tend. Lineal', marker='o', linestyle='dotted', color='b')\n",
    "    grafico.plot(x, p_inst, lw=2, label='Pot.Instalada', color='r')\n",
    "    grafico.plot(x, precau, lw=2, label='Precaucion N-1', color='y')\n",
    "    \n",
    "    grafico.set_ylim ([20,90])\n",
    "    \n",
    "    grafico.set_xlabel('[ Años ]')  # Add an x-label to the axes.\n",
    "    grafico.set_ylabel('[ MVA ]')  # Add a y-label to the axes.\n",
    "    grafico.set_title(\"ET San Francisco: Demanda Historica y Pronostico al 2026 \")  # Add a title to the axes.\n",
    "    grafico.legend(loc='lower right')  # Add a legend.\n",
    "    #grafico.annotate('Pico Max', xy=(01-31 14:45, 75), xytext=(01-31 15:00, 75), arrowprops=dict(facecolor='black', shrink=0.05)\n",
    "    #grafico.grid() \n",
    "    \n",
    "    #fig.savefig(\"Serie_Anual_15min_\"+anio+\".png\")"
   ]
  },
  {
   "cell_type": "code",
   "execution_count": null,
   "id": "a0e59090-231f-4bde-a0f7-2494e062877f",
   "metadata": {},
   "outputs": [],
   "source": [
    "Grafica_Hist_Pred()"
   ]
  },
  {
   "cell_type": "code",
   "execution_count": null,
   "id": "86cd99b5-b80c-47a9-97d0-abeae2465ce3",
   "metadata": {},
   "outputs": [],
   "source": [
    "Tablaxls[\"RSE\"] = (Tablaxls[\"S_MVA\"]-Tablaxls[\"S_MVA_PRED\"])**2\n",
    "Tablaxls"
   ]
  },
  {
   "cell_type": "code",
   "execution_count": null,
   "id": "e6f80f77-ba9c-43eb-b3a9-c8858a6e7f5b",
   "metadata": {},
   "outputs": [],
   "source": [
    "plt.hist((Tablaxls[\"S_MVA\"]-Tablaxls[\"S_MVA_PRED\"]))"
   ]
  },
  {
   "cell_type": "code",
   "execution_count": null,
   "id": "bd053dac-66a2-45e1-a693-ec40752736a9",
   "metadata": {},
   "outputs": [],
   "source": [
    "Tablaxls.info()"
   ]
  },
  {
   "cell_type": "markdown",
   "id": "f637fbc3-c3f1-499c-88d4-2adefa78dbda",
   "metadata": {},
   "source": [
    "## Conclusiones"
   ]
  },
  {
   "cell_type": "code",
   "execution_count": null,
   "id": "cb8d5162-bfb2-47e9-8a45-3207d8029d13",
   "metadata": {},
   "outputs": [],
   "source": []
  },
  {
   "cell_type": "code",
   "execution_count": null,
   "id": "93c2b771-36bc-40ee-a747-533557cb8bc4",
   "metadata": {},
   "outputs": [],
   "source": []
  }
 ],
 "metadata": {
  "colab": {
   "collapsed_sections": [],
   "name": "graficas_med_v9.ipynb",
   "provenance": [
    {
     "file_id": "1FydaVnzYUCVwZ4_wEvQUyKk6m4M6dnx1",
     "timestamp": 1636153891741
    }
   ]
  },
  "kernelspec": {
   "display_name": "Python 3 (ipykernel)",
   "language": "python",
   "name": "python3"
  },
  "language_info": {
   "codemirror_mode": {
    "name": "ipython",
    "version": 3
   },
   "file_extension": ".py",
   "mimetype": "text/x-python",
   "name": "python",
   "nbconvert_exporter": "python",
   "pygments_lexer": "ipython3",
   "version": "3.8.12"
  }
 },
 "nbformat": 4,
 "nbformat_minor": 5
}
