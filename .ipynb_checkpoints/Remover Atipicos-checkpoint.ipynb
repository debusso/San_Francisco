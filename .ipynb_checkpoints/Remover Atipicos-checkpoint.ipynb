{
 "cells": [
  {
   "cell_type": "markdown",
   "id": "30c547f0-570f-4ed6-9160-062b6b31fe9f",
   "metadata": {},
   "source": [
    "## Conjunto de datos de prueba"
   ]
  },
  {
   "cell_type": "markdown",
   "id": "5974dfc5-6799-4344-99b7-8249501eae24",
   "metadata": {},
   "source": [
    "Antes de analizar los métodos de identificación de valores atípicos, definamos un conjunto de datos que podamos usar para probar los métodos.\n",
    "\n",
    "Generaremos una población de 10,000 números aleatorios extraídos de una distribución gaussiana con una media de 50 y una desviación estándar de 5.\n",
    "\n",
    "Los números extraídos de una distribución gaussiana tendrán valores atípicos. Es decir, en virtud de la distribución en sí, habrá algunos valores que estarán muy lejos de los valores medios y raros que podemos identificar como valores atípicos.\n",
    "\n",
    "Usaremos la función randn () para generar valores gaussianos aleatorios con una media de 0 y una desviación estándar de 1, luego multiplicaremos los resultados por nuestra propia desviación estándar y sumaremos la media para cambiar los valores al rango preferido.\n",
    "\n",
    "El generador de números pseudoaleatorios se inicia para garantizar que obtengamos la misma muestra de números cada vez que se ejecuta el código."
   ]
  },
  {
   "cell_type": "code",
   "execution_count": 8,
   "id": "a9b57122-904c-45c9-8331-c29cfae9e6c0",
   "metadata": {},
   "outputs": [],
   "source": [
    "# Cómo importar las librerías\n",
    "import numpy    as np\n",
    "import pandas   as pd\n",
    "import datetime as dt\n",
    "import os\n",
    "\n",
    "# Gráficos\n",
    "# ==============================================================================\n",
    "import matplotlib.pyplot as plt\n",
    "import seaborn as sns\n",
    "%matplotlib inline\n",
    "plt.style.use('fivethirtyeight')\n",
    "\n",
    "from statsmodels.graphics.tsaplots import plot_acf\n",
    "from statsmodels.graphics.tsaplots import plot_pacf\n",
    "\n",
    "\n",
    "# Configuración warnings\n",
    "# ==============================================================================\n",
    "import warnings\n",
    "warnings.filterwarnings('ignore')"
   ]
  },
  {
   "cell_type": "code",
   "execution_count": 9,
   "id": "41d38779-561f-4889-9402-bf86bd8b69d1",
   "metadata": {},
   "outputs": [
    {
     "name": "stdout",
     "output_type": "stream",
     "text": [
      "mean=50.049 stdv=4.994\n"
     ]
    }
   ],
   "source": [
    "# generate gaussian data\n",
    "from numpy.random import seed\n",
    "from numpy.random import randn\n",
    "from numpy import mean\n",
    "from numpy import std\n",
    "# seed the random number generator\n",
    "seed(1)\n",
    "# generate univariate observations\n",
    "data = 5 * randn(10000) + 50\n",
    "# summarize\n",
    "print('mean=%.3f stdv=%.3f' % (mean(data), std(data)))"
   ]
  },
  {
   "cell_type": "code",
   "execution_count": 10,
   "id": "bab4f29b-5bda-49eb-8c06-f306ed7202b3",
   "metadata": {},
   "outputs": [
    {
     "data": {
      "text/plain": [
       "array([58.12172682, 46.94121793, 47.35914124, ..., 44.92928092,\n",
       "       49.68651887, 42.81065054])"
      ]
     },
     "execution_count": 10,
     "metadata": {},
     "output_type": "execute_result"
    }
   ],
   "source": [
    "data"
   ]
  },
  {
   "cell_type": "code",
   "execution_count": 11,
   "id": "0f0d6e24-ee74-4b25-8c92-0546ff167b48",
   "metadata": {},
   "outputs": [
    {
     "data": {
      "text/plain": [
       "[<matplotlib.lines.Line2D at 0x23b38db7160>]"
      ]
     },
     "execution_count": 11,
     "metadata": {},
     "output_type": "execute_result"
    },
    {
     "data": {
      "image/png": "[encoded data removed]",
      "text/plain": [
       "<Figure size 432x288 with 1 Axes>"
      ]
     },
     "metadata": {},
     "output_type": "display_data"
    }
   ],
   "source": [
    "import matplotlib.pyplot as plt\n",
    "plt.plot(data)"
   ]
  },
  {
   "cell_type": "code",
   "execution_count": 12,
   "id": "22fe304a-9534-42c5-a9ea-181a9a4d6358",
   "metadata": {},
   "outputs": [
    {
     "data": {
      "text/plain": [
       "(array([  14.,  151.,  699., 1932., 2909., 2594., 1248.,  388.,   55.,\n",
       "          10.]),\n",
       " array([31.7177995 , 35.55944408, 39.40108865, 43.24273322, 47.08437779,\n",
       "        50.92602236, 54.76766694, 58.60931151, 62.45095608, 66.29260065,\n",
       "        70.13424522]),\n",
       " <BarContainer object of 10 artists>)"
      ]
     },
     "execution_count": 12,
     "metadata": {},
     "output_type": "execute_result"
    },
    {
     "data": {
      "image/png": "[encoded data removed]",
      "text/plain": [
       "<Figure size 432x288 with 1 Axes>"
      ]
     },
     "metadata": {},
     "output_type": "display_data"
    }
   ],
   "source": [
    "plt.hist(data)"
   ]
  },
  {
   "cell_type": "markdown",
   "id": "2ea8c899-f35e-4bbb-a671-4b737977cad1",
   "metadata": {},
   "source": [
    "## Método de desviación estándar"
   ]
  },
  {
   "cell_type": "markdown",
   "id": "2b952cfe-be75-4673-a289-6761f073b7c7",
   "metadata": {},
   "source": [
    "Si sabemos que la distribución de valores en la muestra es gaussiana o similar a la de Gauss, podemos usar la desviación estándar de la muestra como un punto de corte para identificar valores atípicos.\n",
    "\n",
    "La distribución gaussiana tiene la propiedad de que la desviación estándar de la media puede usarse para resumir de manera confiable el porcentaje de valores en la muestra.\n",
    "\n",
    "Por ejemplo, dentro de una desviación estándar de la media cubrirá el 68% de los datos.\n",
    "\n",
    "Entonces, si la media es 50 y la desviación estándar es 5, como en el conjunto de datos de prueba anterior, entonces todos los datos de la muestra entre 45 y 55 representarán aproximadamente el 68% de la muestra de datos. Podemos cubrir más de la muestra de datos si expandimos el rango de la siguiente manera:\n",
    "\n",
    "1 desviación estándar de la media: 68%\n",
    "2 desviaciones estándar de la media: 95%\n",
    "3 desviaciones estándar de la media: 99,7%\n",
    "Un valor que cae fuera de 3 desviaciones estándar es parte de la distribución, pero es un evento poco probable o raro en aproximadamente 1 de cada 370 muestras.\n",
    "\n",
    "Tres desviaciones estándar de la media es un límite común en la práctica para identificar valores atípicos en una distribución gaussiana o similar a la gaussiana. Para muestras más pequeñas de datos, quizás se pueda usar un valor de 2 desviaciones estándar (95%), y para muestras más grandes, quizás se pueda usar un valor de 4 desviaciones estándar (99,9%).\n",
    "\n",
    "Dado mu y sigma, una forma sencilla de identificar valores atípicos es calcular una puntuación z para cada xi, que se define como el número de desviaciones estándar de xi es de la media […] Valores de datos que tienen una puntuación z sigma mayor de un umbral, por ejemplo, de tres, se declaran valores atípicos.\n",
    "\n",
    "- Página 19, Limpieza de datos , 2019.\n",
    "\n",
    "Hagamos esto concreto con un ejemplo trabajado.\n",
    "\n",
    "A veces, los datos se estandarizan primero (por ejemplo, a una puntuación Z con media cero y varianza unitaria) para que la detección de valores atípicos se pueda realizar utilizando valores de corte de puntuación Z estándar. Esto es una conveniencia y no se requiere en general, y realizaremos los cálculos en la escala original de los datos aquí para aclarar las cosas.\n",
    "\n",
    "Podemos calcular la media y la desviación estándar de una muestra dada, luego calcular el límite para identificar valores atípicos como más de 3 desviaciones estándar de la media."
   ]
  },
  {
   "cell_type": "code",
   "execution_count": 14,
   "id": "158dc411-fa59-4bb8-8491-0d1b9224a5ea",
   "metadata": {},
   "outputs": [
    {
     "data": {
      "text/plain": [
       "(35.06707562817479, 65.03065093881625)"
      ]
     },
     "execution_count": 14,
     "metadata": {},
     "output_type": "execute_result"
    }
   ],
   "source": [
    "\n",
    "# calculate summary statistics\n",
    "data_mean, data_std = mean(data), std(data)\n",
    "# identify outliers\n",
    "cut_off = data_std * 3\n",
    "lower, upper = data_mean - cut_off, data_mean + cut_off\n",
    "lower, upper"
   ]
  },
  {
   "cell_type": "markdown",
   "id": "a1aef140-ea03-4c9b-a353-cabb39535347",
   "metadata": {},
   "source": [
    "Luego, podemos identificar valores atípicos como aquellos ejemplos que quedan fuera de los límites superior e inferior definidos."
   ]
  },
  {
   "cell_type": "code",
   "execution_count": 16,
   "id": "2cb682cc-c54a-4d5d-bdcf-caaa6a29490d",
   "metadata": {},
   "outputs": [
    {
     "data": {
      "text/plain": [
       "[65.15428556186015,\n",
       " 69.79301352018982,\n",
       " 66.60539378085183,\n",
       " 34.73117809786848,\n",
       " 34.23321274904475,\n",
       " 34.91984007395351,\n",
       " 67.1633171589778,\n",
       " 34.679293219474495,\n",
       " 68.70124451852294,\n",
       " 65.67523670043954,\n",
       " 66.19171598376188,\n",
       " 33.73482882511691,\n",
       " 65.66014864070253,\n",
       " 65.06377284118616,\n",
       " 34.0469182658796,\n",
       " 33.6969245211173,\n",
       " 67.02151137874486,\n",
       " 65.59239795391275,\n",
       " 66.49270261640393,\n",
       " 65.74492012609815,\n",
       " 33.525707966507426,\n",
       " 34.72183379792847,\n",
       " 70.1342452227369,\n",
       " 33.90433947188079,\n",
       " 65.55945915508362,\n",
       " 68.06638503541573,\n",
       " 66.99057828251213,\n",
       " 67.80436660352774,\n",
       " 31.717799503726024]"
      ]
     },
     "execution_count": 16,
     "metadata": {},
     "output_type": "execute_result"
    }
   ],
   "source": [
    "...\n",
    "# identify outliers\n",
    "outliers = [x for x in data if x < lower or x > upper]\n",
    "outliers"
   ]
  },
  {
   "cell_type": "code",
   "execution_count": 17,
   "id": "a680dd35-1b2d-403f-91f3-78c6221d0e1a",
   "metadata": {},
   "outputs": [
    {
     "data": {
      "text/plain": [
       "29"
      ]
     },
     "execution_count": 17,
     "metadata": {},
     "output_type": "execute_result"
    }
   ],
   "source": [
    "len(outliers)"
   ]
  },
  {
   "cell_type": "markdown",
   "id": "c283826e-b35a-43fc-8447-99a83ed39ad4",
   "metadata": {},
   "source": [
    "Alternativamente, podemos filtrar aquellos valores de la muestra que no están dentro de los límites definidos."
   ]
  },
  {
   "cell_type": "code",
   "execution_count": 22,
   "id": "754e9515-7e4f-41e6-b78e-9696a62e3909",
   "metadata": {},
   "outputs": [
    {
     "data": {
      "text/plain": [
       "9971"
      ]
     },
     "execution_count": 22,
     "metadata": {},
     "output_type": "execute_result"
    }
   ],
   "source": [
    "\n",
    "# remove outliers\n",
    "obser_sin_atipicos = [x for x in data if x > lower and x < upper]\n",
    "len(obser_sin_atipicos)"
   ]
  },
  {
   "cell_type": "markdown",
   "id": "2e99741c-ed7c-443a-a571-ca3eaf2d0748",
   "metadata": {},
   "source": [
    "El ejemplo completo se enumera a continuación."
   ]
  },
  {
   "cell_type": "code",
   "execution_count": 23,
   "id": "4d7354ac-0bd8-4d33-ad71-9055ddd9b7b9",
   "metadata": {},
   "outputs": [
    {
     "name": "stdout",
     "output_type": "stream",
     "text": [
      "Identified outliers: 29\n",
      "Non-outlier observations: 9971\n"
     ]
    }
   ],
   "source": [
    "# identify outliers with standard deviation\n",
    "from numpy.random import seed\n",
    "from numpy.random import randn\n",
    "from numpy import mean\n",
    "from numpy import std\n",
    "# seed the random number generator\n",
    "seed(1)\n",
    "# generate univariate observations\n",
    "data = 5 * randn(10000) + 50\n",
    "# calculate summary statistics\n",
    "data_mean, data_std = mean(data), std(data)\n",
    "# identify outliers\n",
    "cut_off = data_std * 3\n",
    "lower, upper = data_mean - cut_off, data_mean + cut_off\n",
    "# identify outliers\n",
    "outliers = [x for x in data if x < lower or x > upper]\n",
    "print('Identified outliers: %d' % len(outliers))\n",
    "# remove outliers\n",
    "No_outliers = [x for x in data if x >= lower and x <= upper]\n",
    "print('Non-outlier observations: %d' % len(No_outliers))"
   ]
  },
  {
   "cell_type": "markdown",
   "id": "9a27d7d7-1e48-447c-8c3c-568d81dd3737",
   "metadata": {},
   "source": [
    "Hasta ahora solo hemos hablado de datos univariados con una distribución gaussiana, por ejemplo, una sola variable. Puede usar el mismo enfoque si tiene datos multivariados, por ejemplo, datos con múltiples variables, cada una con una distribución gaussiana diferente.\n",
    "\n",
    "Puede imaginar límites en dos dimensiones que definirían una elipse si tiene dos variables. Las observaciones que caen fuera de la elipse se considerarían valores atípicos. En tres dimensiones, esto sería un elipsoide, y así sucesivamente en dimensiones superiores.\n",
    "\n",
    "Alternativamente, si supiera más sobre el dominio, tal vez se pueda identificar un valor atípico al exceder los límites en una o un subconjunto de las dimensiones de los datos"
   ]
  },
  {
   "cell_type": "markdown",
   "id": "7447b60f-7879-486b-a4dd-6291a937ab3f",
   "metadata": {},
   "source": [
    "## Método de rango intercuartílico"
   ]
  },
  {
   "cell_type": "markdown",
   "id": "a158d3ac-d31a-4b65-b757-3b4b7f576506",
   "metadata": {},
   "source": [
    "No todos los datos son normales o lo suficientemente normales como para tratarlos como si se hubieran extraído de una distribución gaussiana.\n",
    "\n",
    "Una buena estadística para resumir una muestra de datos de distribución no gaussiana es el rango intercuartílico, o IQR, para abreviar.\n",
    "\n",
    "El IQR se calcula como la diferencia entre los percentiles 75 y 25 de los datos y define la caja en un diagrama de caja y bigotes.\n",
    "\n",
    "Recuerde que los percentiles se pueden calcular ordenando las observaciones y seleccionando valores en índices específicos. El percentil 50 es el valor medio, o el promedio de los dos valores medios para un número par de ejemplos. Si tuviéramos 10,000 muestras, entonces el percentil 50 sería el promedio de los valores 5000 y 5001.\n",
    "\n",
    "Nos referimos a los percentiles como cuartiles (“ cuarto ” significa 4) porque los datos se dividen en cuatro grupos a través de los valores 25, 50 y 75.\n",
    "\n",
    "El IQR define el 50% medio de los datos, o el cuerpo de los datos.\n",
    "\n",
    "Las técnicas de detección de valores atípicos basadas en estadísticas asumen que los puntos de datos normales aparecerían en regiones de alta probabilidad de un modelo estocástico, mientras que los valores atípicos ocurrirían en las regiones de baja probabilidad de un modelo estocástico.\n",
    "\n",
    "- Página 12, Limpieza de datos , 2019.\n",
    "\n",
    "El IQR se puede utilizar para identificar valores atípicos definiendo límites en los valores de la muestra que son un factor k del IQR por debajo del percentil 25 o por encima del percentil 75. El valor común del factor k es el valor 1,5. Se puede usar un factor k de 3 o más para identificar valores que son valores atípicos extremos o \" muy alejados \" cuando se describen en el contexto de diagramas de caja y bigotes.\n",
    "\n",
    "En un diagrama de caja y bigotes, estos límites se trazan como vallas en los bigotes (o las líneas) que se extraen de la caja. Los valores que quedan fuera de estos valores se dibujan como puntos.\n",
    "\n",
    "Podemos calcular los percentiles de un conjunto de datos usando la función percentile ()  NumPy que toma el conjunto de datos y la especificación del percentil deseado. El IQR se puede calcular entonces como la diferencia entre los percentiles 75 y 25."
   ]
  },
  {
   "cell_type": "code",
   "execution_count": 31,
   "id": "f340412e-a657-4c75-b12c-cf464898fb98",
   "metadata": {},
   "outputs": [],
   "source": [
    "...\n",
    "# calculate interquartile range\n",
    "from numpy import percentile\n",
    "q25, q75 = percentile(data, 25), percentile(data, 75)\n",
    "iqr = q75 - q25"
   ]
  },
  {
   "cell_type": "markdown",
   "id": "8a61892e-d504-4d44-9525-ebc202538c35",
   "metadata": {},
   "source": [
    "Luego, podemos calcular el límite de valores atípicos como 1,5 veces el IQR y restar este límite del percentil 25 y agregarlo al percentil 75 para obtener los límites reales de los datos."
   ]
  },
  {
   "cell_type": "code",
   "execution_count": 32,
   "id": "6824f273-0ee2-475d-b2c3-d74671ee877c",
   "metadata": {},
   "outputs": [
    {
     "data": {
      "text/plain": [
       "(36.674873210195926, 63.36954675764531)"
      ]
     },
     "execution_count": 32,
     "metadata": {},
     "output_type": "execute_result"
    }
   ],
   "source": [
    "...\n",
    "# calculate the outlier cutoff\n",
    "cut_off = iqr * 1.5\n",
    "lower, upper = q25 - cut_off, q75 + cut_off\n",
    "lower, upper"
   ]
  },
  {
   "cell_type": "markdown",
   "id": "b6a53852-9857-4770-bce4-c81b559c8965",
   "metadata": {},
   "source": [
    "Luego, podemos usar estos límites para identificar los valores atípicos."
   ]
  },
  {
   "cell_type": "code",
   "execution_count": 26,
   "id": "2a23e1b2-e6c3-4fda-a056-80e1bf465899",
   "metadata": {},
   "outputs": [],
   "source": [
    "\n",
    "# identify outliers\n",
    "outliers = [x for x in data if x < lower or x > upper]"
   ]
  },
  {
   "cell_type": "code",
   "execution_count": 27,
   "id": "69ae6e94-ea19-4c91-b99d-5355742eec35",
   "metadata": {},
   "outputs": [],
   "source": [
    "...\n",
    "# remove outliers\n",
    "outliers_removed = [x for x in data if x > lower and x < upper]"
   ]
  },
  {
   "cell_type": "code",
   "execution_count": 29,
   "id": "86b23385-c6aa-42a3-8a01-54e9af37dcd0",
   "metadata": {},
   "outputs": [
    {
     "name": "stdout",
     "output_type": "stream",
     "text": [
      "Percentiles: 25th=46.685, 75th=53.359, IQR=6.674\n",
      "Identified outliers: 81\n",
      "Non-outlier observations: 9919\n"
     ]
    }
   ],
   "source": [
    "# identify outliers with interquartile range\n",
    "from numpy.random import seed\n",
    "from numpy.random import randn\n",
    "from numpy import percentile\n",
    "# seed the random number generator\n",
    "seed(1)\n",
    "# generate univariate observations\n",
    "data = 5 * randn(10000) + 50\n",
    "# calculate interquartile range\n",
    "q25, q75 = percentile(data, 25), percentile(data, 75)\n",
    "iqr = q75 - q25\n",
    "print('Percentiles: 25th=%.3f, 75th=%.3f, IQR=%.3f' % (q25, q75, iqr))\n",
    "# calculate the outlier cutoff\n",
    "cut_off = iqr * 1.5\n",
    "lower, upper = q25 - cut_off, q75 + cut_off\n",
    "# identify outliers\n",
    "outliers = [x for x in data if x < lower or x > upper]\n",
    "print('Identified outliers: %d' % len(outliers))\n",
    "# remove outliers\n",
    "Sin_outliers = [x for x in data if x >= lower and x <= upper]\n",
    "print('Non-outlier observations: %d' % len(Sin_outliers))"
   ]
  },
  {
   "cell_type": "markdown",
   "id": "625098b6-33a4-4910-a7ff-61e45c4aab3b",
   "metadata": {},
   "source": [
    "Ejecutar el ejemplo primero imprime los percentiles 25 y 75 identificados y el IQR calculado. El número de valores atípicos identificados se imprime seguido del número de observaciones no atípicas."
   ]
  },
  {
   "cell_type": "markdown",
   "id": "0ae75dc4-d01a-4d66-bc11-0e8a6d22a85d",
   "metadata": {},
   "source": [
    "El enfoque se puede utilizar para datos multivariados calculando los límites de cada variable en el conjunto de datos por turno, y tomando valores atípicos como observaciones que caen fuera del rectángulo o hiper-rectángulo."
   ]
  },
  {
   "cell_type": "code",
   "execution_count": null,
   "id": "08e651d1-4b2e-4b22-a104-8a8cd1f1f2ba",
   "metadata": {},
   "outputs": [],
   "source": []
  }
 ],
 "metadata": {
  "kernelspec": {
   "display_name": "Python 3",
   "language": "python",
   "name": "python3"
  },
  "language_info": {
   "codemirror_mode": {
    "name": "ipython",
    "version": 3
   },
   "file_extension": ".py",
   "mimetype": "text/x-python",
   "name": "python",
   "nbconvert_exporter": "python",
   "pygments_lexer": "ipython3",
   "version": "3.8.5"
  }
 },
 "nbformat": 4,
 "nbformat_minor": 5
}
