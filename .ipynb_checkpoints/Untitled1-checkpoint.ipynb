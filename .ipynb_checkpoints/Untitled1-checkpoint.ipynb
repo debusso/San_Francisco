{
 "cells": [
  {
   "cell_type": "code",
   "execution_count": 1,
   "id": "e7578ce9-62ab-4606-b322-865bd6e33898",
   "metadata": {},
   "outputs": [],
   "source": [
    "import numpy as np\n",
    "import matplotlib.pyplot as plt"
   ]
  },
  {
   "cell_type": "code",
   "execution_count": 2,
   "id": "a1e2e5f4-5de9-4ab1-a81a-f8110e06b72e",
   "metadata": {},
   "outputs": [
    {
     "data": {
      "image/png": "[encoded data removed]",
      "text/plain": [
       "<Figure size 360x194.4 with 1 Axes>"
      ]
     },
     "metadata": {
      "needs_background": "light"
     },
     "output_type": "display_data"
    }
   ],
   "source": [
    "np.random.seed(19680801)  # seed the random number generator.\n",
    "data = {'a': np.arange(50),\n",
    "        'c': np.random.randint(0, 50, 50),\n",
    "        'd': np.random.randn(50)}\n",
    "data['b'] = data['a'] + 10 * np.random.randn(50)\n",
    "data['d'] = np.abs(data['d']) * 100\n",
    "\n",
    "fig, ax = plt.subplots(figsize=(5, 2.7), layout='constrained')\n",
    "ax.scatter('a', 'b', c='c', s='d', data=data)\n",
    "ax.set_xlabel('entry a')\n",
    "ax.set_ylabel('entry b');"
   ]
  },
  {
   "cell_type": "code",
   "execution_count": 4,
   "id": "a829485c-b3e0-47a2-a8bd-e880976896a0",
   "metadata": {},
   "outputs": [
    {
     "data": {
      "text/plain": [
       "{'a': array([ 0,  1,  2,  3,  4,  5,  6,  7,  8,  9, 10, 11, 12, 13, 14, 15, 16,\n",
       "        17, 18, 19, 20, 21, 22, 23, 24, 25, 26, 27, 28, 29, 30, 31, 32, 33,\n",
       "        34, 35, 36, 37, 38, 39, 40, 41, 42, 43, 44, 45, 46, 47, 48, 49]),\n",
       " 'c': array([20, 44, 20, 45,  6, 34, 34, 23,  3, 49, 36, 42, 18, 11,  8, 37, 11,\n",
       "         3,  5, 48,  9,  3, 33, 32, 31,  0, 26, 37,  0, 17, 23, 25, 24,  6,\n",
       "        23, 19, 34, 10, 42, 11, 47,  9, 39,  3, 24, 38, 42, 10, 35, 47]),\n",
       " 'd': array([131.08605149,  51.74420745,   1.66581368,  46.91722512,\n",
       "         77.67780947, 188.46976928,  12.75873335,  51.9317436 ,\n",
       "         73.51432203, 134.68513218,  55.02550534,  22.90511577,\n",
       "         66.12316262,  53.63684671,  48.19443761,  31.27235627,\n",
       "        312.18385278, 135.84770113,  14.26382069,  21.69969255,\n",
       "          3.28680039, 183.21446831,  35.23598407,  23.66451326,\n",
       "        147.85480652, 155.43065697, 111.06089767,  82.37885628,\n",
       "         66.52746882,  71.47663897, 123.0787053 , 209.54021272,\n",
       "         60.32194818, 161.35530599,  25.39840502, 151.58787722,\n",
       "         11.72265226,  49.54283589,  70.25908475,  39.50695356,\n",
       "        112.32790207, 171.55547852,  27.11051464,   8.62407388,\n",
       "        109.04711851,  11.25430131,  95.36444665,   5.02231944,\n",
       "         48.31606025, 133.39032998]),\n",
       " 'b': array([  4.8018808 ,  -6.4972666 , -11.2077656 ,   6.322316  ,\n",
       "          1.33391659,  11.36202025,  -5.18315173,   9.64545151,\n",
       "          8.93059413,  -2.9619809 ,   1.010722  ,  10.5460328 ,\n",
       "          6.02832418,  13.15619153,   7.92816087,  22.2140083 ,\n",
       "         20.64277678,  25.26559419,  18.93012033,  -3.62283088,\n",
       "         29.90723646,   8.2618424 ,   8.1226306 ,  24.55220778,\n",
       "         24.73672481,  35.29148044,  19.39618445,  20.81129384,\n",
       "         26.1046295 ,  23.53964929,  46.2580496 ,  29.97454235,\n",
       "         17.69996036,  41.7538301 ,  32.48260765,  31.30030868,\n",
       "         36.13983623,  36.18332016,  48.92477345,  44.27782523,\n",
       "         57.41677485,  35.53675523,  58.57367953,  49.73629965,\n",
       "         43.15151999,  28.47595654,  52.43563731,  37.8567097 ,\n",
       "         51.49878342,  49.98087623])}"
      ]
     },
     "execution_count": 4,
     "metadata": {},
     "output_type": "execute_result"
    }
   ],
   "source": [
    "data"
   ]
  },
  {
   "cell_type": "code",
   "execution_count": 5,
   "id": "2542a6d7-d2bb-4c21-b2bc-5b5437347135",
   "metadata": {},
   "outputs": [
    {
     "data": {
      "text/plain": [
       "dict"
      ]
     },
     "execution_count": 5,
     "metadata": {},
     "output_type": "execute_result"
    }
   ],
   "source": [
    "type(data)"
   ]
  },
  {
   "cell_type": "code",
   "execution_count": null,
   "id": "9a71c475-097d-446e-989f-6cfd2ed64ae7",
   "metadata": {},
   "outputs": [],
   "source": []
  }
 ],
 "metadata": {
  "kernelspec": {
   "display_name": "Python 3 (ipykernel)",
   "language": "python",
   "name": "python3"
  },
  "language_info": {
   "codemirror_mode": {
    "name": "ipython",
    "version": 3
   },
   "file_extension": ".py",
   "mimetype": "text/x-python",
   "name": "python",
   "nbconvert_exporter": "python",
   "pygments_lexer": "ipython3",
   "version": "3.8.12"
  }
 },
 "nbformat": 4,
 "nbformat_minor": 5
}
