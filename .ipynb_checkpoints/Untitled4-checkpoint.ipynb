{
 "cells": [
  {
   "cell_type": "code",
   "execution_count": 1,
   "id": "69654de2-2ad2-4ceb-9040-d8736756a5a5",
   "metadata": {},
   "outputs": [],
   "source": [
    "import numpy as np\n",
    "import matplotlib.pyplot as plt\n",
    "import pandas as pd"
   ]
  },
  {
   "cell_type": "code",
   "execution_count": 2,
   "id": "a0c6f778-6a28-4057-a11e-e86ca8ff9d6f",
   "metadata": {},
   "outputs": [],
   "source": [
    "from sklearn.preprocessing import StandardScaler"
   ]
  },
  {
   "cell_type": "code",
   "execution_count": null,
   "id": "fe66ba26-1d66-4d39-9ee1-e0ec5de71a9a",
   "metadata": {},
   "outputs": [],
   "source": []
  },
  {
   "cell_type": "code",
   "execution_count": null,
   "id": "efa0b34f-c128-47ef-9697-319ba68b1bc4",
   "metadata": {},
   "outputs": [],
   "source": []
  },
  {
   "cell_type": "code",
   "execution_count": 5,
   "id": "a3d1db3c-f197-4f02-acdf-7fd3141d654f",
   "metadata": {},
   "outputs": [],
   "source": [
    "scaler = StandardScaler()"
   ]
  },
  {
   "cell_type": "code",
   "execution_count": 6,
   "id": "103c4776-edb2-4997-94e9-343db1d1dc07",
   "metadata": {},
   "outputs": [
    {
     "data": {
      "text/plain": [
       "StandardScaler()"
      ]
     },
     "execution_count": 6,
     "metadata": {},
     "output_type": "execute_result"
    }
   ],
   "source": [
    "scaler"
   ]
  },
  {
   "cell_type": "code",
   "execution_count": 8,
   "id": "6f02cf9c-9162-4043-a502-f4ac03f8e0a7",
   "metadata": {},
   "outputs": [],
   "source": [
    "#print(scaler.fit(data))"
   ]
  },
  {
   "cell_type": "code",
   "execution_count": 4,
   "id": "0e248ec6-c651-48db-8eb3-3c6789a14b7b",
   "metadata": {},
   "outputs": [
    {
     "ename": "NameError",
     "evalue": "name 'data' is not defined",
     "output_type": "error",
     "traceback": [
      "\u001b[1;31m---------------------------------------------------------------------------\u001b[0m",
      "\u001b[1;31mNameError\u001b[0m                                 Traceback (most recent call last)",
      "Input \u001b[1;32mIn [4]\u001b[0m, in \u001b[0;36m<cell line: 1>\u001b[1;34m()\u001b[0m\n\u001b[1;32m----> 1\u001b[0m datos \u001b[38;5;241m=\u001b[39m pd\u001b[38;5;241m.\u001b[39mDataFrame(\u001b[43mdata\u001b[49m)\n\u001b[0;32m      2\u001b[0m datos\n",
      "\u001b[1;31mNameError\u001b[0m: name 'data' is not defined"
     ]
    }
   ],
   "source": [
    "datos = pd.DataFrame(data)\n",
    "datos"
   ]
  },
  {
   "cell_type": "code",
   "execution_count": 10,
   "id": "d90bacc3-2296-403b-be81-6fa2d951e60a",
   "metadata": {},
   "outputs": [
    {
     "data": {
      "text/html": [
       "<div>\n",
       "<style scoped>\n",
       "    .dataframe tbody tr th:only-of-type {\n",
       "        vertical-align: middle;\n",
       "    }\n",
       "\n",
       "    .dataframe tbody tr th {\n",
       "        vertical-align: top;\n",
       "    }\n",
       "\n",
       "    .dataframe thead th {\n",
       "        text-align: right;\n",
       "    }\n",
       "</style>\n",
       "<table border=\"1\" class=\"dataframe\">\n",
       "  <thead>\n",
       "    <tr style=\"text-align: right;\">\n",
       "      <th></th>\n",
       "      <th>0</th>\n",
       "      <th>1</th>\n",
       "    </tr>\n",
       "  </thead>\n",
       "  <tbody>\n",
       "    <tr>\n",
       "      <th>count</th>\n",
       "      <td>4.00000</td>\n",
       "      <td>4.00000</td>\n",
       "    </tr>\n",
       "    <tr>\n",
       "      <th>mean</th>\n",
       "      <td>0.50000</td>\n",
       "      <td>0.50000</td>\n",
       "    </tr>\n",
       "    <tr>\n",
       "      <th>std</th>\n",
       "      <td>0.57735</td>\n",
       "      <td>0.57735</td>\n",
       "    </tr>\n",
       "    <tr>\n",
       "      <th>min</th>\n",
       "      <td>0.00000</td>\n",
       "      <td>0.00000</td>\n",
       "    </tr>\n",
       "    <tr>\n",
       "      <th>25%</th>\n",
       "      <td>0.00000</td>\n",
       "      <td>0.00000</td>\n",
       "    </tr>\n",
       "    <tr>\n",
       "      <th>50%</th>\n",
       "      <td>0.50000</td>\n",
       "      <td>0.50000</td>\n",
       "    </tr>\n",
       "    <tr>\n",
       "      <th>75%</th>\n",
       "      <td>1.00000</td>\n",
       "      <td>1.00000</td>\n",
       "    </tr>\n",
       "    <tr>\n",
       "      <th>max</th>\n",
       "      <td>1.00000</td>\n",
       "      <td>1.00000</td>\n",
       "    </tr>\n",
       "  </tbody>\n",
       "</table>\n",
       "</div>"
      ],
      "text/plain": [
       "             0        1\n",
       "count  4.00000  4.00000\n",
       "mean   0.50000  0.50000\n",
       "std    0.57735  0.57735\n",
       "min    0.00000  0.00000\n",
       "25%    0.00000  0.00000\n",
       "50%    0.50000  0.50000\n",
       "75%    1.00000  1.00000\n",
       "max    1.00000  1.00000"
      ]
     },
     "execution_count": 10,
     "metadata": {},
     "output_type": "execute_result"
    }
   ],
   "source": [
    "datos.describe()"
   ]
  },
  {
   "cell_type": "code",
   "execution_count": 11,
   "id": "a07c5378-6680-4569-9133-d2386556ab91",
   "metadata": {},
   "outputs": [
    {
     "name": "stdout",
     "output_type": "stream",
     "text": [
      "[[-1. -1.]\n",
      " [-1. -1.]\n",
      " [ 1.  1.]\n",
      " [ 1.  1.]]\n"
     ]
    }
   ],
   "source": [
    "print(scaler.transform(data))"
   ]
  },
  {
   "cell_type": "code",
   "execution_count": 12,
   "id": "ec661c24-a2de-4c96-84ff-5fd4d97cdeb8",
   "metadata": {},
   "outputs": [
    {
     "data": {
      "text/html": [
       "<div>\n",
       "<style scoped>\n",
       "    .dataframe tbody tr th:only-of-type {\n",
       "        vertical-align: middle;\n",
       "    }\n",
       "\n",
       "    .dataframe tbody tr th {\n",
       "        vertical-align: top;\n",
       "    }\n",
       "\n",
       "    .dataframe thead th {\n",
       "        text-align: right;\n",
       "    }\n",
       "</style>\n",
       "<table border=\"1\" class=\"dataframe\">\n",
       "  <thead>\n",
       "    <tr style=\"text-align: right;\">\n",
       "      <th></th>\n",
       "      <th>0</th>\n",
       "      <th>1</th>\n",
       "    </tr>\n",
       "  </thead>\n",
       "  <tbody>\n",
       "    <tr>\n",
       "      <th>0</th>\n",
       "      <td>0</td>\n",
       "      <td>0</td>\n",
       "    </tr>\n",
       "    <tr>\n",
       "      <th>1</th>\n",
       "      <td>0</td>\n",
       "      <td>0</td>\n",
       "    </tr>\n",
       "    <tr>\n",
       "      <th>2</th>\n",
       "      <td>1</td>\n",
       "      <td>1</td>\n",
       "    </tr>\n",
       "    <tr>\n",
       "      <th>3</th>\n",
       "      <td>1</td>\n",
       "      <td>1</td>\n",
       "    </tr>\n",
       "  </tbody>\n",
       "</table>\n",
       "</div>"
      ],
      "text/plain": [
       "   0  1\n",
       "0  0  0\n",
       "1  0  0\n",
       "2  1  1\n",
       "3  1  1"
      ]
     },
     "execution_count": 12,
     "metadata": {},
     "output_type": "execute_result"
    }
   ],
   "source": [
    "datos"
   ]
  },
  {
   "cell_type": "code",
   "execution_count": null,
   "id": "dd2303e9-cdeb-456b-b1f7-b915d9ea9121",
   "metadata": {},
   "outputs": [],
   "source": []
  },
  {
   "cell_type": "code",
   "execution_count": null,
   "id": "3c0b49e6-2046-42a7-a6e0-3b4d564d397e",
   "metadata": {},
   "outputs": [],
   "source": []
  },
  {
   "cell_type": "code",
   "execution_count": null,
   "id": "9c594264-3038-416f-a00d-513ef05d0be1",
   "metadata": {},
   "outputs": [],
   "source": [
    "\n",
    ">>> data = [[0, 0], [0, 0], [1, 1], [1, 1]]\n",
    ">>> scaler = StandardScaler()\n",
    ">>> print(scaler.fit(data))\n",
    "StandardScaler()\n",
    ">>> print(scaler.mean_)\n",
    "[0.5 0.5]\n",
    ">>> print(scaler.transform(data))\n",
    "[[-1. -1.]\n",
    " [-1. -1.]\n",
    " [ 1.  1.]\n",
    " [ 1.  1.]]\n",
    ">>> print(scaler.transform([[2, 2]]))\n",
    "[[3. 3.]]"
   ]
  },
  {
   "cell_type": "code",
   "execution_count": 9,
   "id": "3a3e097f-83e8-4b55-bef3-8820208d1b39",
   "metadata": {},
   "outputs": [],
   "source": [
    "data = [[1, 100], [2, 120], [5, 150], [7, 170] , [10, 200]]"
   ]
  },
  {
   "cell_type": "code",
   "execution_count": 10,
   "id": "c34106de-e26d-4522-af60-c3df8bc9df35",
   "metadata": {},
   "outputs": [
    {
     "data": {
      "text/plain": [
       "[[1, 100], [2, 120], [5, 150], [7, 170], [10, 200]]"
      ]
     },
     "execution_count": 10,
     "metadata": {},
     "output_type": "execute_result"
    }
   ],
   "source": [
    "data"
   ]
  },
  {
   "cell_type": "code",
   "execution_count": 11,
   "id": "74a64914-ac78-4586-bb54-da244a0995bd",
   "metadata": {},
   "outputs": [
    {
     "data": {
      "text/html": [
       "<div>\n",
       "<style scoped>\n",
       "    .dataframe tbody tr th:only-of-type {\n",
       "        vertical-align: middle;\n",
       "    }\n",
       "\n",
       "    .dataframe tbody tr th {\n",
       "        vertical-align: top;\n",
       "    }\n",
       "\n",
       "    .dataframe thead th {\n",
       "        text-align: right;\n",
       "    }\n",
       "</style>\n",
       "<table border=\"1\" class=\"dataframe\">\n",
       "  <thead>\n",
       "    <tr style=\"text-align: right;\">\n",
       "      <th></th>\n",
       "      <th>0</th>\n",
       "      <th>1</th>\n",
       "    </tr>\n",
       "  </thead>\n",
       "  <tbody>\n",
       "    <tr>\n",
       "      <th>0</th>\n",
       "      <td>1</td>\n",
       "      <td>100</td>\n",
       "    </tr>\n",
       "    <tr>\n",
       "      <th>1</th>\n",
       "      <td>2</td>\n",
       "      <td>120</td>\n",
       "    </tr>\n",
       "    <tr>\n",
       "      <th>2</th>\n",
       "      <td>5</td>\n",
       "      <td>150</td>\n",
       "    </tr>\n",
       "    <tr>\n",
       "      <th>3</th>\n",
       "      <td>7</td>\n",
       "      <td>170</td>\n",
       "    </tr>\n",
       "    <tr>\n",
       "      <th>4</th>\n",
       "      <td>10</td>\n",
       "      <td>200</td>\n",
       "    </tr>\n",
       "  </tbody>\n",
       "</table>\n",
       "</div>"
      ],
      "text/plain": [
       "    0    1\n",
       "0   1  100\n",
       "1   2  120\n",
       "2   5  150\n",
       "3   7  170\n",
       "4  10  200"
      ]
     },
     "execution_count": 11,
     "metadata": {},
     "output_type": "execute_result"
    }
   ],
   "source": [
    "df = pd.DataFrame(data)\n",
    "df"
   ]
  },
  {
   "cell_type": "code",
   "execution_count": 12,
   "id": "717970b3-dd85-46a6-b562-d90695ce02ae",
   "metadata": {},
   "outputs": [],
   "source": [
    "escalador = StandardScaler()"
   ]
  },
  {
   "cell_type": "code",
   "execution_count": 14,
   "id": "9c431348-f613-4fda-a6d0-0256b48975b7",
   "metadata": {},
   "outputs": [],
   "source": [
    "escalador = escalador.fit(data)"
   ]
  },
  {
   "cell_type": "code",
   "execution_count": 37,
   "id": "a10f2d0a-dc5d-4058-86ce-7776f240fc63",
   "metadata": {},
   "outputs": [
    {
     "name": "stdout",
     "output_type": "stream",
     "text": [
      "[[-1.21716124 -1.35439836]\n",
      " [-0.91287093 -0.79006571]\n",
      " [ 0.          0.05643326]\n",
      " [ 0.60858062  0.62076591]\n",
      " [ 1.52145155  1.46726488]]\n"
     ]
    }
   ],
   "source": [
    "print(escalador.transform(data))"
   ]
  },
  {
   "cell_type": "code",
   "execution_count": 38,
   "id": "ca4b3705-95f7-4e72-be6b-ab27350fc68d",
   "metadata": {},
   "outputs": [
    {
     "data": {
      "text/plain": [
       "-0.9129640900791235"
      ]
     },
     "execution_count": 38,
     "metadata": {},
     "output_type": "execute_result"
    }
   ],
   "source": [
    "(2-5)/3.286"
   ]
  },
  {
   "cell_type": "code",
   "execution_count": null,
   "id": "e7fe9986-d314-42f4-8efd-8c9801b3ceb3",
   "metadata": {},
   "outputs": [],
   "source": []
  },
  {
   "cell_type": "code",
   "execution_count": 34,
   "id": "cd12d3a9-0582-4fe8-9950-9f5b4c3a2961",
   "metadata": {},
   "outputs": [
    {
     "data": {
      "text/html": [
       "<div>\n",
       "<style scoped>\n",
       "    .dataframe tbody tr th:only-of-type {\n",
       "        vertical-align: middle;\n",
       "    }\n",
       "\n",
       "    .dataframe tbody tr th {\n",
       "        vertical-align: top;\n",
       "    }\n",
       "\n",
       "    .dataframe thead th {\n",
       "        text-align: right;\n",
       "    }\n",
       "</style>\n",
       "<table border=\"1\" class=\"dataframe\">\n",
       "  <thead>\n",
       "    <tr style=\"text-align: right;\">\n",
       "      <th></th>\n",
       "      <th>0</th>\n",
       "      <th>1</th>\n",
       "    </tr>\n",
       "  </thead>\n",
       "  <tbody>\n",
       "    <tr>\n",
       "      <th>0</th>\n",
       "      <td>1</td>\n",
       "      <td>100</td>\n",
       "    </tr>\n",
       "    <tr>\n",
       "      <th>1</th>\n",
       "      <td>2</td>\n",
       "      <td>120</td>\n",
       "    </tr>\n",
       "    <tr>\n",
       "      <th>2</th>\n",
       "      <td>5</td>\n",
       "      <td>150</td>\n",
       "    </tr>\n",
       "    <tr>\n",
       "      <th>3</th>\n",
       "      <td>7</td>\n",
       "      <td>170</td>\n",
       "    </tr>\n",
       "    <tr>\n",
       "      <th>4</th>\n",
       "      <td>10</td>\n",
       "      <td>200</td>\n",
       "    </tr>\n",
       "  </tbody>\n",
       "</table>\n",
       "</div>"
      ],
      "text/plain": [
       "    0    1\n",
       "0   1  100\n",
       "1   2  120\n",
       "2   5  150\n",
       "3   7  170\n",
       "4  10  200"
      ]
     },
     "execution_count": 34,
     "metadata": {},
     "output_type": "execute_result"
    }
   ],
   "source": [
    "datos = pd.DataFrame(data)\n",
    "datos"
   ]
  },
  {
   "cell_type": "code",
   "execution_count": 36,
   "id": "aa8fa30e-eefa-4c51-b7a4-30db193dd707",
   "metadata": {},
   "outputs": [
    {
     "data": {
      "text/plain": [
       "3.2863353450309964"
      ]
     },
     "execution_count": 36,
     "metadata": {},
     "output_type": "execute_result"
    }
   ],
   "source": [
    "np.sqrt((179/5)-(25))"
   ]
  },
  {
   "cell_type": "code",
   "execution_count": null,
   "id": "c6b75405-922c-4371-9534-249acbd0c3d0",
   "metadata": {},
   "outputs": [],
   "source": []
  },
  {
   "cell_type": "code",
   "execution_count": 35,
   "id": "0e63177c-74e4-49b5-9325-a817b21a8bb3",
   "metadata": {},
   "outputs": [
    {
     "data": {
      "text/plain": [
       "179"
      ]
     },
     "execution_count": 35,
     "metadata": {},
     "output_type": "execute_result"
    }
   ],
   "source": [
    "1*1+4+25+49+100"
   ]
  },
  {
   "cell_type": "code",
   "execution_count": null,
   "id": "d6e03c1b-503e-4dc6-8e33-84aa382b689e",
   "metadata": {},
   "outputs": [],
   "source": []
  },
  {
   "cell_type": "code",
   "execution_count": 30,
   "id": "422ac00f-4c02-4d31-94b8-ea102a7a057c",
   "metadata": {},
   "outputs": [
    {
     "data": {
      "text/plain": [
       "115800"
      ]
     },
     "execution_count": 30,
     "metadata": {},
     "output_type": "execute_result"
    }
   ],
   "source": [
    "100*100+120*120+150*150+170*170+200*200\n"
   ]
  },
  {
   "cell_type": "code",
   "execution_count": 31,
   "id": "d3dbf96b-c1c9-4fe5-a5c4-94fff9911538",
   "metadata": {},
   "outputs": [
    {
     "data": {
      "text/plain": [
       "39.6232255123179"
      ]
     },
     "execution_count": 31,
     "metadata": {},
     "output_type": "execute_result"
    }
   ],
   "source": [
    "np.sqrt((115800/4)-(5*148*148)/4)"
   ]
  },
  {
   "cell_type": "code",
   "execution_count": 32,
   "id": "9a501839-9dec-4ddc-8527-490554d308f7",
   "metadata": {},
   "outputs": [
    {
     "data": {
      "text/plain": [
       "35.4400902933387"
      ]
     },
     "execution_count": 32,
     "metadata": {},
     "output_type": "execute_result"
    }
   ],
   "source": [
    "np.sqrt((115800/5)-(148*148))"
   ]
  },
  {
   "cell_type": "code",
   "execution_count": null,
   "id": "8e15d1ea-e994-4ce7-b7c9-7c7f3a3e3b55",
   "metadata": {},
   "outputs": [],
   "source": [
    " "
   ]
  },
  {
   "cell_type": "code",
   "execution_count": null,
   "id": "5b32b1fe-38f3-4da6-a048-191b66d83e4b",
   "metadata": {},
   "outputs": [],
   "source": []
  },
  {
   "cell_type": "code",
   "execution_count": null,
   "id": "2a5fc4a6-886e-4d97-bd34-7d6465067893",
   "metadata": {},
   "outputs": [],
   "source": []
  },
  {
   "cell_type": "code",
   "execution_count": 31,
   "id": "727245fc-f587-47c9-9c41-50e979f3c2f7",
   "metadata": {},
   "outputs": [
    {
     "data": {
      "text/plain": [
       "-1.0886619935850592"
      ]
     },
     "execution_count": 31,
     "metadata": {},
     "output_type": "execute_result"
    }
   ],
   "source": [
    "(1-5)/3.674235"
   ]
  },
  {
   "cell_type": "code",
   "execution_count": null,
   "id": "5f9183ad-6300-433e-8afa-292a2d3d7607",
   "metadata": {},
   "outputs": [],
   "source": []
  },
  {
   "cell_type": "code",
   "execution_count": 26,
   "id": "dd3d6a43-568d-4f6b-82e6-8d3913eb03d7",
   "metadata": {},
   "outputs": [
    {
     "data": {
      "text/html": [
       "<div>\n",
       "<style scoped>\n",
       "    .dataframe tbody tr th:only-of-type {\n",
       "        vertical-align: middle;\n",
       "    }\n",
       "\n",
       "    .dataframe tbody tr th {\n",
       "        vertical-align: top;\n",
       "    }\n",
       "\n",
       "    .dataframe thead th {\n",
       "        text-align: right;\n",
       "    }\n",
       "</style>\n",
       "<table border=\"1\" class=\"dataframe\">\n",
       "  <thead>\n",
       "    <tr style=\"text-align: right;\">\n",
       "      <th></th>\n",
       "      <th>0</th>\n",
       "      <th>1</th>\n",
       "    </tr>\n",
       "  </thead>\n",
       "  <tbody>\n",
       "    <tr>\n",
       "      <th>count</th>\n",
       "      <td>5.000000</td>\n",
       "      <td>5.000000</td>\n",
       "    </tr>\n",
       "    <tr>\n",
       "      <th>mean</th>\n",
       "      <td>5.000000</td>\n",
       "      <td>148.000000</td>\n",
       "    </tr>\n",
       "    <tr>\n",
       "      <th>std</th>\n",
       "      <td>3.674235</td>\n",
       "      <td>39.623226</td>\n",
       "    </tr>\n",
       "    <tr>\n",
       "      <th>min</th>\n",
       "      <td>1.000000</td>\n",
       "      <td>100.000000</td>\n",
       "    </tr>\n",
       "    <tr>\n",
       "      <th>25%</th>\n",
       "      <td>2.000000</td>\n",
       "      <td>120.000000</td>\n",
       "    </tr>\n",
       "    <tr>\n",
       "      <th>50%</th>\n",
       "      <td>5.000000</td>\n",
       "      <td>150.000000</td>\n",
       "    </tr>\n",
       "    <tr>\n",
       "      <th>75%</th>\n",
       "      <td>7.000000</td>\n",
       "      <td>170.000000</td>\n",
       "    </tr>\n",
       "    <tr>\n",
       "      <th>max</th>\n",
       "      <td>10.000000</td>\n",
       "      <td>200.000000</td>\n",
       "    </tr>\n",
       "  </tbody>\n",
       "</table>\n",
       "</div>"
      ],
      "text/plain": [
       "               0           1\n",
       "count   5.000000    5.000000\n",
       "mean    5.000000  148.000000\n",
       "std     3.674235   39.623226\n",
       "min     1.000000  100.000000\n",
       "25%     2.000000  120.000000\n",
       "50%     5.000000  150.000000\n",
       "75%     7.000000  170.000000\n",
       "max    10.000000  200.000000"
      ]
     },
     "execution_count": 26,
     "metadata": {},
     "output_type": "execute_result"
    }
   ],
   "source": [
    "datos.describe()"
   ]
  },
  {
   "cell_type": "code",
   "execution_count": 27,
   "id": "647e9d3d-7881-496f-98fc-3d171fd32db5",
   "metadata": {},
   "outputs": [
    {
     "data": {
      "text/plain": [
       "35.4400902933387"
      ]
     },
     "execution_count": 27,
     "metadata": {},
     "output_type": "execute_result"
    }
   ],
   "source": [
    "np.sqrt(1256.0)"
   ]
  },
  {
   "cell_type": "code",
   "execution_count": null,
   "id": "7654f5f9-1f72-49ef-92ed-b69d58b73625",
   "metadata": {},
   "outputs": [],
   "source": []
  },
  {
   "cell_type": "code",
   "execution_count": 27,
   "id": "91dca9a6-475c-425a-932d-4369962c5fda",
   "metadata": {},
   "outputs": [
    {
     "data": {
      "text/plain": [
       "5.0"
      ]
     },
     "execution_count": 27,
     "metadata": {},
     "output_type": "execute_result"
    }
   ],
   "source": [
    "(11+5+9)/5"
   ]
  },
  {
   "cell_type": "code",
   "execution_count": 19,
   "id": "bd618b35-cb99-43bf-b4c9-f4101d7cb02a",
   "metadata": {},
   "outputs": [
    {
     "data": {
      "text/plain": [
       "{'copy': True, 'with_mean': True, 'with_std': True}"
      ]
     },
     "execution_count": 19,
     "metadata": {},
     "output_type": "execute_result"
    }
   ],
   "source": [
    "escalador.get_params()"
   ]
  },
  {
   "cell_type": "code",
   "execution_count": 21,
   "id": "55ef61ce-3d32-42ad-8214-c95669b24a5c",
   "metadata": {},
   "outputs": [
    {
     "data": {
      "text/plain": [
       "array([  5., 148.])"
      ]
     },
     "execution_count": 21,
     "metadata": {},
     "output_type": "execute_result"
    }
   ],
   "source": [
    "escalador.mean_"
   ]
  },
  {
   "cell_type": "code",
   "execution_count": 22,
   "id": "b8feb2f6-3809-41b7-8b13-99bb86a7bf5a",
   "metadata": {},
   "outputs": [
    {
     "data": {
      "text/plain": [
       "array([  10.8, 1256. ])"
      ]
     },
     "execution_count": 22,
     "metadata": {},
     "output_type": "execute_result"
    }
   ],
   "source": [
    "escalador.var_"
   ]
  },
  {
   "cell_type": "code",
   "execution_count": 39,
   "id": "464791fb-b939-4b2c-8507-be4fe27b8719",
   "metadata": {},
   "outputs": [
    {
     "data": {
      "text/plain": [
       "10.797796"
      ]
     },
     "execution_count": 39,
     "metadata": {},
     "output_type": "execute_result"
    }
   ],
   "source": [
    "3.286*3.286"
   ]
  },
  {
   "cell_type": "code",
   "execution_count": 40,
   "id": "d7cbf3a9-586a-4c52-a9d5-200fe10806ae",
   "metadata": {},
   "outputs": [
    {
     "data": {
      "text/plain": [
       "1255.9935999999998"
      ]
     },
     "execution_count": 40,
     "metadata": {},
     "output_type": "execute_result"
    }
   ],
   "source": [
    "35.44*35.44"
   ]
  },
  {
   "cell_type": "code",
   "execution_count": null,
   "id": "c86f7f44-89bc-4fa7-b06c-2e56c9d7cbe8",
   "metadata": {},
   "outputs": [],
   "source": []
  },
  {
   "cell_type": "code",
   "execution_count": null,
   "id": "ba479ef0-7469-4c49-bc5e-017d726c070d",
   "metadata": {},
   "outputs": [],
   "source": []
  }
 ],
 "metadata": {
  "kernelspec": {
   "display_name": "Python 3 (ipykernel)",
   "language": "python",
   "name": "python3"
  },
  "language_info": {
   "codemirror_mode": {
    "name": "ipython",
    "version": 3
   },
   "file_extension": ".py",
   "mimetype": "text/x-python",
   "name": "python",
   "nbconvert_exporter": "python",
   "pygments_lexer": "ipython3",
   "version": "3.8.12"
  }
 },
 "nbformat": 4,
 "nbformat_minor": 5
}
