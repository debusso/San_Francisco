{
 "cells": [
  {
   "cell_type": "code",
   "execution_count": null,
   "id": "8170b279-c099-4833-819c-9f705b2f16e4",
   "metadata": {},
   "outputs": [],
   "source": []
  },
  {
   "cell_type": "code",
   "execution_count": null,
   "id": "88ce6027-b895-4fd6-bff7-ffe49d0746d9",
   "metadata": {},
   "outputs": [],
   "source": []
  },
  {
   "cell_type": "code",
   "execution_count": null,
   "id": "a7069c25-11fd-4542-a795-4d5434e57b69",
   "metadata": {},
   "outputs": [],
   "source": []
  },
  {
   "cell_type": "code",
   "execution_count": 2,
   "id": "4173df7d-3610-472e-931a-98bb12a96e35",
   "metadata": {},
   "outputs": [
    {
     "ename": "NameError",
     "evalue": "name 'netcdf_file' is not defined",
     "output_type": "error",
     "traceback": [
      "\u001b[1;31m---------------------------------------------------------------------------\u001b[0m",
      "\u001b[1;31mNameError\u001b[0m                                 Traceback (most recent call last)",
      "Input \u001b[1;32mIn [2]\u001b[0m, in \u001b[0;36m<cell line: 1>\u001b[1;34m()\u001b[0m\n\u001b[0;32m      1\u001b[0m \u001b[38;5;28;01mif\u001b[39;00m \u001b[38;5;18m__name__\u001b[39m \u001b[38;5;241m==\u001b[39m \u001b[38;5;124m'\u001b[39m\u001b[38;5;124m__main__\u001b[39m\u001b[38;5;124m'\u001b[39m:\n\u001b[0;32m      2\u001b[0m     \u001b[38;5;28;01mfrom\u001b[39;00m \u001b[38;5;21;01mmatplotlib\u001b[39;00m\u001b[38;5;21;01m.\u001b[39;00m\u001b[38;5;21;01manimation\u001b[39;00m \u001b[38;5;28;01mimport\u001b[39;00m FuncAnimation\n\u001b[1;32m----> 4\u001b[0m     ncf \u001b[38;5;241m=\u001b[39m \u001b[43mnetcdf_file\u001b[49m(\u001b[38;5;124m'\u001b[39m\u001b[38;5;124mKTLX_20100510_22Z.nc\u001b[39m\u001b[38;5;124m'\u001b[39m)\n\u001b[0;32m      5\u001b[0m     data \u001b[38;5;241m=\u001b[39m ncf\u001b[38;5;241m.\u001b[39mvariables[\u001b[38;5;124m'\u001b[39m\u001b[38;5;124mReflectivity\u001b[39m\u001b[38;5;124m'\u001b[39m]\n\u001b[0;32m      6\u001b[0m     lats \u001b[38;5;241m=\u001b[39m ncf\u001b[38;5;241m.\u001b[39mvariables[\u001b[38;5;124m'\u001b[39m\u001b[38;5;124mlat\u001b[39m\u001b[38;5;124m'\u001b[39m]\n",
      "\u001b[1;31mNameError\u001b[0m: name 'netcdf_file' is not defined"
     ]
    }
   ],
   "source": [
    "if __name__ == '__main__':\n",
    "    from matplotlib.animation import FuncAnimation\n",
    "\n",
    "    ncf = netcdf_file('KTLX_20100510_22Z.nc')\n",
    "    data = ncf.variables['Reflectivity']\n",
    "    lats = ncf.variables['lat']\n",
    "    lons = ncf.variables['lon']\n",
    "    stormcells = storm_loader('polygons.shp')\n",
    "    fig, ax = plt.subplots(1, 1)\n",
    "    raddisp = RadarDisplay(ax, lats, lons)\n",
    "    raddisp.update_display(data[0])\n",
    "    cb = fig.colorbar(raddisp.im)\n",
    "    polycolls = Stormcells(ax, stormcells)\n",
    "    linecoll = Tracks(ax)\n",
    "    # Turn on the first frame's polygons\n",
    "    polycolls.toggle_polygons(0, True)\n",
    "    ax.autoscale(True)\n",
    "    ctrl_sys = ControlSys(fig, raddisp, data, polycolls, linecoll,\n",
    "    stormcells)\n",
    "    cb.set_label(\"Reflectivity (dBZ)\")\n",
    "    ax.set_xlabel(\"Longitude\")\n",
    "    ax.set_ylabel(\"Latitude\")\n",
    "    anim = FuncAnimation(fig, lambda _: ctrl_sys.change_frame(1),\n",
    "    frames=data.shape[0], repeat=False)\n",
    "    anim.save('storms_with_tracks.gif', writer='imagemagick')"
   ]
  },
  {
   "cell_type": "code",
   "execution_count": null,
   "id": "1b413244-aaef-43dd-a9d4-eeb8a3febd2d",
   "metadata": {},
   "outputs": [],
   "source": []
  },
  {
   "cell_type": "code",
   "execution_count": null,
   "id": "7bd124cb-9ea5-476f-a1dd-3d4f06ec2dd4",
   "metadata": {},
   "outputs": [],
   "source": []
  }
 ],
 "metadata": {
  "kernelspec": {
   "display_name": "Python 3 (ipykernel)",
   "language": "python",
   "name": "python3"
  },
  "language_info": {
   "codemirror_mode": {
    "name": "ipython",
    "version": 3
   },
   "file_extension": ".py",
   "mimetype": "text/x-python",
   "name": "python",
   "nbconvert_exporter": "python",
   "pygments_lexer": "ipython3",
   "version": "3.8.12"
  }
 },
 "nbformat": 4,
 "nbformat_minor": 5
}
