{
 "cells": [
  {
   "cell_type": "markdown",
   "id": "f85295cd-1162-4f53-b41b-471c73e6c96a",
   "metadata": {},
   "source": [
    "# Regresion Lineal"
   ]
  },
  {
   "cell_type": "code",
   "execution_count": 1,
   "id": "b76b77f1-b19a-48b4-839b-90d6a41bd554",
   "metadata": {
    "colab": {
     "base_uri": "https://localhost:8080/"
    },
    "executionInfo": {
     "elapsed": 973,
     "status": "ok",
     "timestamp": 1637115290396,
     "user": {
      "displayName": "Daniel Eduardo Busso",
      "photoUrl": "https://lh3.googleusercontent.com/a-/AOh14GjGHRoC4oOxFn0Yu-KdurF5i7AS6wSLZncbVe1Nxg=s64",
      "userId": "06824887177846301087"
     },
     "user_tz": 180
    },
    "id": "77c91a81-f42b-4d04-9e0d-8cd94540d860",
    "outputId": "b576f7ce-552f-4f3d-f2ad-de1bfcb12d6f"
   },
   "outputs": [],
   "source": [
    "# -*- coding: utf-8 -*-\n",
    "\"\"\"\n",
    "Created on Viernes 8 Octubre 2021 17:43:11 \n",
    "\n",
    "@author: Daniel Busso\n",
    "\"\"\"\n",
    "\n",
    "# Plantilla de Pre Procesado\n",
    "\n",
    "# Cómo importar las librerías\n",
    "import numpy    as np\n",
    "import pandas   as pd\n",
    "import datetime as dt\n",
    "import os\n",
    "\n",
    "# Gráficos\n",
    "# ==============================================================================\n",
    "import matplotlib.pyplot as plt\n",
    "import seaborn as sns\n",
    "%matplotlib inline\n",
    "plt.style.use('fivethirtyeight')\n",
    "\n",
    "from statsmodels.graphics.tsaplots import plot_acf\n",
    "from statsmodels.graphics.tsaplots import plot_pacf\n",
    "\n",
    "\n",
    "# Configuración warnings\n",
    "# ==============================================================================\n",
    "import warnings\n",
    "warnings.filterwarnings('ignore')"
   ]
  },
  {
   "cell_type": "code",
   "execution_count": 2,
   "id": "b09f907a-5580-4b33-ac4a-d7b1741d01bd",
   "metadata": {
    "executionInfo": {
     "elapsed": 5,
     "status": "ok",
     "timestamp": 1637115294404,
     "user": {
      "displayName": "Daniel Eduardo Busso",
      "photoUrl": "https://lh3.googleusercontent.com/a-/AOh14GjGHRoC4oOxFn0Yu-KdurF5i7AS6wSLZncbVe1Nxg=s64",
      "userId": "06824887177846301087"
     },
     "user_tz": 180
    },
    "id": "e0bb4fa1-131c-4dd8-b703-357ec067b3ca"
   },
   "outputs": [],
   "source": [
    "# Configuracion Pandas\n",
    "\n",
    "pd.set_option('display.max_rows', 200)\n",
    "pd.set_option('display.max_columns', None)\n",
    "pd.set_option('display.width', None)\n",
    "pd.set_option('display.max_colwidth', -1)\n",
    "pd.set_option('display.float_format', '{:.2f}'.format)"
   ]
  },
  {
   "cell_type": "code",
   "execution_count": null,
   "id": "ea1a75ed-68f1-4db1-9d2c-7067d5a6d24d",
   "metadata": {},
   "outputs": [],
   "source": []
  },
  {
   "cell_type": "code",
   "execution_count": null,
   "id": "e5725eb9-ed4c-4738-900f-d63d273aa561",
   "metadata": {},
   "outputs": [],
   "source": []
  },
  {
   "cell_type": "code",
   "execution_count": null,
   "id": "3719739c-f280-49cb-920d-876cec4debea",
   "metadata": {},
   "outputs": [],
   "source": []
  }
 ],
 "metadata": {
  "kernelspec": {
   "display_name": "Python 3 (ipykernel)",
   "language": "python",
   "name": "python3"
  },
  "language_info": {
   "codemirror_mode": {
    "name": "ipython",
    "version": 3
   },
   "file_extension": ".py",
   "mimetype": "text/x-python",
   "name": "python",
   "nbconvert_exporter": "python",
   "pygments_lexer": "ipython3",
   "version": "3.8.12"
  }
 },
 "nbformat": 4,
 "nbformat_minor": 5
}
