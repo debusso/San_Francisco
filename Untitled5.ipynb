{
 "cells": [
  {
   "cell_type": "code",
   "execution_count": 75,
   "id": "79afd515-d4ac-42fb-ae48-7a24475fafe3",
   "metadata": {},
   "outputs": [
    {
     "data": {
      "image/png": "[encoded data removed]",
      "text/plain": [
       "<Figure size 720x360 with 1 Axes>"
      ]
     },
     "metadata": {
      "needs_background": "light"
     },
     "output_type": "display_data"
    }
   ],
   "source": [
    "import matplotlib.pyplot as plt\n",
    "import numpy as np\n",
    "\n",
    "plt.style.use('_mpl-gallery')\n",
    "\n",
    "# make data:\n",
    "np.random.seed(10)\n",
    "#D = np.random.normal((3, 5, 4), (0.25, 1.00, 1.25), (100, 3))\n",
    "D = np.random.normal((0, 10, 100), (0.1, 0.1, 0.1), (100, 3))\n",
    "\n",
    "# plot\n",
    "fig, ax = plt.subplots(figsize=(10, 5))\n",
    "VP = ax.boxplot(D, positions=[2, 4, 6], widths=1.5, patch_artist=True,\n",
    "                showmeans=False, showfliers=False,\n",
    "                medianprops={\"color\": \"white\", \"linewidth\": 0.5},\n",
    "                boxprops={\"facecolor\": \"C0\", \"edgecolor\": \"white\",\n",
    "                          \"linewidth\": 0.5},\n",
    "                whiskerprops={\"color\": \"C0\", \"linewidth\": 1.5},\n",
    "                capprops={\"color\": \"C0\", \"linewidth\": 1.5})\n",
    "\n",
    "#ax.set(xlim=(0, 8), xticks=np.arange(1, 8),\n",
    " #      ylim=(0, 8), yticks=np.arange(1, 8))\n",
    "\n",
    "plt.show()"
   ]
  },
  {
   "cell_type": "code",
   "execution_count": 46,
   "id": "0566f6c3-ffd8-405c-837d-c9b78b331673",
   "metadata": {},
   "outputs": [],
   "source": [
    "D = np.random.normal((3, 5, 4), (1.25, 1.00, 1.25), (100, 3))"
   ]
  },
  {
   "cell_type": "code",
   "execution_count": 51,
   "id": "56ff9042-1c4c-4e4e-bed8-ab6d901bbb1d",
   "metadata": {},
   "outputs": [
    {
     "data": {
      "text/plain": [
       "(100, 3)"
      ]
     },
     "execution_count": 51,
     "metadata": {},
     "output_type": "execute_result"
    }
   ],
   "source": [
    "D.shape"
   ]
  },
  {
   "cell_type": "code",
   "execution_count": 52,
   "id": "0688ad5d-e70e-42ad-ae78-2be7df90e515",
   "metadata": {},
   "outputs": [],
   "source": [
    "np.random.seed(10)"
   ]
  },
  {
   "cell_type": "code",
   "execution_count": 63,
   "id": "0998326d-9d00-46e4-9b3e-116766e2d0f8",
   "metadata": {},
   "outputs": [],
   "source": [
    "D = np.random.normal((3, 5, 4), (0.25, 1.00, 1.25), (100, 3))"
   ]
  },
  {
   "cell_type": "code",
   "execution_count": 64,
   "id": "bcdafa7a-e063-4965-869f-0fbcc9131ac5",
   "metadata": {},
   "outputs": [
    {
     "data": {
      "text/plain": [
       "array([[3.18882499, 5.87948569, 3.70005463],\n",
       "       [2.82623584, 4.52859992, 4.43684551],\n",
       "       [3.40286432, 5.23933927, 4.60625329],\n",
       "       [2.58534882, 7.67991031, 2.62059734],\n",
       "       [3.45444565, 4.44395266, 5.19713905],\n",
       "       [3.20380517, 5.0643194 , 3.79199329],\n",
       "       [2.76482256, 4.9464055 , 5.37642025],\n",
       "       [3.09303064, 4.11653901, 5.44756446],\n",
       "       [2.69908663, 5.20983914, 2.88601635],\n",
       "       [2.80432806, 6.07973068, 3.42144889],\n",
       "       [2.62123108, 4.46128147, 4.94577732],\n",
       "       [2.81765019, 6.21478265, 5.26035371],\n",
       "       [3.01832075, 6.17373241, 6.32868958],\n",
       "       [2.50409088, 6.15668893, 4.76160283],\n",
       "       [2.91919969, 5.66414561, 4.49590749],\n",
       "       [2.85597078, 6.48821839, 4.17530858],\n",
       "       [3.29707919, 4.75425461, 1.95551673],\n",
       "       [3.06119952, 4.76491777, 2.42396524],\n",
       "       [2.57700802, 5.61645092, 5.5871141 ],\n",
       "       [3.34933449, 5.53422496, 4.00512755],\n",
       "       [3.04735496, 5.04477469, 4.99335659],\n",
       "       [2.87671481, 3.73841026, 3.72592467],\n",
       "       [3.04931806, 4.74471955, 4.03225949],\n",
       "       [3.55024161, 5.8843676 , 2.26647183],\n",
       "       [3.16341558, 2.82339137, 4.77368616],\n",
       "       [3.11930858, 5.02609653, 2.78786791],\n",
       "       [2.75406797, 5.41253272, 3.23211894],\n",
       "       [3.20927044, 4.37638099, 3.54601725],\n",
       "       [3.18986783, 4.966073  , 3.79199913],\n",
       "       [3.06739311, 5.37530555, 3.89510594],\n",
       "       [3.05653159, 4.88411927, 4.51450302],\n",
       "       [3.07195261, 5.50427148, 5.0053342 ],\n",
       "       [2.74234795, 3.64230244, 3.66687267],\n",
       "       [2.9571768 , 5.46238555, 2.47518058],\n",
       "       [3.04814321, 5.43545039, 1.95631983],\n",
       "       [3.10873432, 6.39781939, 4.15583347],\n",
       "       [2.77713715, 4.42310666, 3.90631391],\n",
       "       [2.86955589, 1.79559866, 5.82838874],\n",
       "       [2.88327434, 4.8209803 , 5.15593454],\n",
       "       [3.05881119, 4.51139174, 3.88377307],\n",
       "       [3.13385035, 5.5508447 , 3.76059743],\n",
       "       [3.19867441, 5.7850965 , 3.39034448],\n",
       "       [2.74853378, 5.32757537, 4.72381056],\n",
       "       [2.88501861, 4.56418409, 4.67033569],\n",
       "       [3.03925375, 6.35878914, 4.64418156],\n",
       "       [3.59603116, 5.52919027, 2.8798202 ],\n",
       "       [2.95054747, 4.90452417, 1.8994426 ],\n",
       "       [3.16917705, 5.06072782, 3.97119851],\n",
       "       [2.86167039, 3.89387676, 3.72858138],\n",
       "       [2.78114441, 5.01078143, 2.86719147],\n",
       "       [2.6460617 , 5.09470831, 4.24225076],\n",
       "       [3.13580877, 5.05633578, 5.83206876],\n",
       "       [2.8410077 , 6.10950523, 2.75920939],\n",
       "       [2.82941463, 4.5907308 , 3.69065591],\n",
       "       [3.38196278, 4.35056163, 2.41373059],\n",
       "       [3.18871902, 4.97609156, 2.05307191],\n",
       "       [3.08658789, 5.9423645 , 3.51815398],\n",
       "       [3.3900522 , 6.54516176, 3.13539043],\n",
       "       [3.21612962, 2.90220813, 4.21286837],\n",
       "       [2.81054259, 5.96781042, 2.90684369],\n",
       "       [3.2569601 , 4.19711037, 3.46462074],\n",
       "       [2.81114604, 5.2204969 , 2.28360727],\n",
       "       [3.16168958, 4.32649819, 6.80233313],\n",
       "       [2.93837822, 4.23639566, 4.60098593],\n",
       "       [2.7920502 , 5.59318923, 3.43902608],\n",
       "       [3.12192398, 5.05631473, 4.68223058],\n",
       "       [2.8292194 , 4.34098269, 5.79906716],\n",
       "       [3.34553666, 5.92132043, 3.28389097],\n",
       "       [3.31876228, 4.67116796, 3.81707399],\n",
       "       [3.26460916, 4.88891956, 3.95139858],\n",
       "       [2.91940913, 4.33423427, 3.11922499],\n",
       "       [2.91155932, 5.15192742, 3.61974979],\n",
       "       [2.70528641, 4.85086729, 3.71862894],\n",
       "       [3.01753859, 5.45206723, 4.36758657],\n",
       "       [2.7931225 , 4.17152878, 3.38436567],\n",
       "       [2.81209489, 3.41161918, 3.41408661],\n",
       "       [2.64222038, 3.73650314, 2.44968921],\n",
       "       [2.73672101, 3.86780226, 2.86131743],\n",
       "       [2.93494003, 5.81465452, 2.31582316],\n",
       "       [3.26488208, 5.52454074, 4.66686128],\n",
       "       [2.9366105 , 5.19212229, 4.70365224],\n",
       "       [3.15686274, 4.66005138, 4.92147373],\n",
       "       [3.30072573, 5.97055953, 4.8798484 ],\n",
       "       [2.84875307, 5.00471054, 4.18379242],\n",
       "       [2.88436522, 5.21855883, 4.21094201],\n",
       "       [2.98750071, 4.85009385, 3.95583992],\n",
       "       [3.00840413, 4.63342401, 3.46973572],\n",
       "       [2.98728759, 3.8762458 , 1.67830229],\n",
       "       [2.94586877, 3.8207955 , 6.05595141],\n",
       "       [3.1808573 , 6.2481493 , 4.91590721],\n",
       "       [2.91974432, 5.50089497, 4.64992789],\n",
       "       [2.65553104, 5.78471065, 2.87961542],\n",
       "       [2.70541552, 5.74118741, 3.28393834],\n",
       "       [2.75974866, 6.18791799, 1.79229375],\n",
       "       [2.80739709, 6.12424192, 7.33960636],\n",
       "       [3.01611138, 5.91348431, 2.75374224],\n",
       "       [3.51876217, 4.40981347, 0.47999848],\n",
       "       [3.02738611, 5.14266929, 3.01995555],\n",
       "       [3.06440268, 6.31292275, 2.31371829],\n",
       "       [3.12503421, 4.01541335, 5.85747427]])"
      ]
     },
     "execution_count": 64,
     "metadata": {},
     "output_type": "execute_result"
    }
   ],
   "source": [
    "D"
   ]
  },
  {
   "cell_type": "code",
   "execution_count": 90,
   "id": "4434da01-b6df-4114-89f8-5f9bc5768c73",
   "metadata": {},
   "outputs": [],
   "source": [
    "np.random.seed(10)\n",
    "e = np.random.normal((3, 10, 100), (0.25, 0.25, 0.25), (100, 3))"
   ]
  },
  {
   "cell_type": "code",
   "execution_count": 91,
   "id": "8f3afd13-40d1-4495-a7dd-1d00abc13c95",
   "metadata": {},
   "outputs": [
    {
     "data": {
      "text/plain": [
       "array([[  3.33289663,  10.17881974,  99.61364993],\n",
       "       [  2.99790404,  10.15533399,  99.81997861],\n",
       "       [  3.0663779 ,  10.02713713, 100.00107286],\n",
       "       [  2.95634995,  10.10825655, 100.30075934],\n",
       "       [  2.75873358,  10.25706852, 100.05715753],\n",
       "       [  3.1112844 ,   9.71584945, 100.03378422],\n",
       "       [  3.37113425,   9.73004878,  99.50556793],\n",
       "       [  2.56415693,  10.06651754, 100.59624183],\n",
       "       [  3.28092281,  10.41815555, 100.0247873 ],\n",
       "       [  3.34949909,   9.932188  , 100.15330105],\n",
       "       [  2.9331707 ,   9.86267275, 100.03317707],\n",
       "       [  2.8809645 ,  10.32711827, 100.04875332],\n",
       "       [  3.1000525 ,   9.91559192, 100.31411807],\n",
       "       [  2.81700762,  10.16505789,  99.91228203],\n",
       "       [  2.76514166,   9.8776657 ,  99.79885221],\n",
       "       [  2.94682559,   9.91521494, 100.07804248],\n",
       "       [  3.14128817,   9.96314494,  99.99352367],\n",
       "       [  3.07227355,   9.86503023, 100.17704   ],\n",
       "       [  3.21055618,  10.0508952 , 100.59867592],\n",
       "       [  3.22936473,   9.97193188,  99.90945489],\n",
       "       [  2.94195444,   9.87456778, 100.28219629],\n",
       "       [  2.82554749,   9.97971945,  99.86767598],\n",
       "       [  3.26154571,   9.64536099,  99.9093752 ],\n",
       "       [  2.96952358,  10.07983911, 100.11522573],\n",
       "       [  2.94605253,  10.24726811, 100.07868844],\n",
       "       [  3.61691276,   9.62291963, 100.15515017],\n",
       "       [  2.73871687,   9.8004978 , 100.49627115],\n",
       "       [  3.43620354,   9.53595363,  99.94430658],\n",
       "       [  2.98353804,   9.46707197,  99.98779237],\n",
       "       [  3.0983353 ,  10.05431629,  99.50140156],\n",
       "       [  3.27692706,  10.06113599,  99.98452199],\n",
       "       [  2.81152676,  10.17798975, 100.22956729],\n",
       "       [  2.87947672,  10.0223969 , 100.20674966],\n",
       "       [  2.51137197,  10.02936892,  99.52313578],\n",
       "       [  2.76927268,  10.11743786,  99.96390831],\n",
       "       [  2.89996541,   9.92600404, 100.21205215],\n",
       "       [  3.17670761,   9.80318277, 100.07323518],\n",
       "       [  2.88229819,  10.6010814 ,  99.81516082],\n",
       "       [  2.92179281,   9.91277952,  99.89024344],\n",
       "       [  3.03527604,  10.06826233,  99.59535731],\n",
       "       [  2.85672166,   9.66988811, 100.30905133],\n",
       "       [  3.61633127,  10.34580806, 100.08655828],\n",
       "       [  3.25562903,  10.04170257, 100.41417916],\n",
       "       [  3.1669724 ,   9.94251334,  99.7176122 ],\n",
       "       [  2.84000935,  10.07845763,  99.693541  ],\n",
       "       [  2.94455172,  10.33498158, 100.00732743],\n",
       "       [  3.49634644,  10.3617914 ,  99.92809265],\n",
       "       [  2.66017236,   9.98798967,  99.87980316],\n",
       "       [  3.09443827,  10.40360199,  99.71922399],\n",
       "       [  2.90281801,  10.08308749, 100.28374329],\n",
       "       [  3.1276786 ,  10.10357441, 100.33613736],\n",
       "       [  3.12337883,   9.94074895, 100.01432129],\n",
       "       [  2.82323214,  10.13666621, 100.2356251 ],\n",
       "       [  2.25510081,  10.30453721,  99.98586982],\n",
       "       [  3.11522211,  10.1655935 ,  99.42622417],\n",
       "       [  2.70101767,   9.91672471,  99.80215231],\n",
       "       [  3.0685432 ,   9.87127252,  99.5722322 ],\n",
       "       [  3.15307433,  10.27503234, 100.14108813],\n",
       "       [  2.82180014,   9.93478513, 100.13710702],\n",
       "       [  3.15079976,  10.25171528,  99.9263935 ],\n",
       "       [  2.64477987,   9.83026331, 100.1334712 ],\n",
       "       [  3.1859936 ,  10.55626241, 100.02929536],\n",
       "       [  3.06115363,   9.95567529,  99.89856762],\n",
       "       [  3.1954438 ,  10.0883694 ,  99.94818013],\n",
       "       [  2.73007565,   9.96923254,  99.90225445],\n",
       "       [  3.31379343,  10.23678152,  99.74442233],\n",
       "       [  3.29179209,   9.8570058 , 100.03328437],\n",
       "       [  3.30068597,   9.74381176, 100.04009979],\n",
       "       [  2.71738118,   9.51467508, 100.24664945],\n",
       "       [  3.00705684,   9.7944081 ,  99.60336206],\n",
       "       [  2.8996318 ,  10.33554482, 100.10061727],\n",
       "       [  2.90680965,   9.83199414, 100.02645302],\n",
       "       [  2.61317365,  10.33620163, 100.1257973 ],\n",
       "       [  3.29858765,   9.85912358, 100.21370719],\n",
       "       [  3.17197618,   9.61673282, 100.03724018],\n",
       "       [  3.07877779,   9.85627058,  99.90995722],\n",
       "       [  3.10904632,   9.99052053,  99.74882091],\n",
       "       [  3.14786327,  10.05695434, 100.06229466],\n",
       "       [  3.02394081,  10.11225543,  99.9284995 ],\n",
       "       [  2.78431043,   9.81454379, 100.27639378],\n",
       "       [  2.49557034,  10.13513518,  99.63942528],\n",
       "       [  2.59778741,   9.74835786,  99.93561659],\n",
       "       [  3.18262686,   9.57539963, 100.41851889],\n",
       "       [  3.29093093,   9.9668566 ,  99.92743855],\n",
       "       [  2.7616169 ,  10.14701015, 100.01720037],\n",
       "       [  3.35301608,   9.8284461 , 100.13698598],\n",
       "       [  2.99090437,   9.78824594, 100.47557601],\n",
       "       [  3.06990135,  10.15506363,  99.73285807],\n",
       "       [  2.81934482,  10.02103489,  99.85388621],\n",
       "       [  3.15050557,  10.10959131,  99.8044142 ],\n",
       "       [  3.048234  ,  10.00100623,  99.95898118],\n",
       "       [  2.71279693,   9.79112287, 100.05261268],\n",
       "       [  3.25349616,   9.75745054, 100.30429539],\n",
       "       [  3.04566184,   9.6825451 , 100.08084748],\n",
       "       [  3.22144371,  10.06609867, 100.57978183],\n",
       "       [  3.07716692,  10.22314101, 100.00275567],\n",
       "       [  3.24501853,   9.401107  ,  99.78561937],\n",
       "       [  2.90893048,  10.12598173, 100.0470828 ],\n",
       "       [  3.27130677,  10.08923477, 100.05183239],\n",
       "       [  2.96373387,  10.04097606, 100.20737812]])"
      ]
     },
     "execution_count": 91,
     "metadata": {},
     "output_type": "execute_result"
    }
   ],
   "source": [
    "e"
   ]
  },
  {
   "cell_type": "code",
   "execution_count": 94,
   "id": "d186dc9d-62e2-43fc-8926-3f78f72133e7",
   "metadata": {},
   "outputs": [
    {
     "data": {
      "text/plain": [
       "array([[3.33289663, 3.17881974, 2.61364993, 2.99790404, 3.15533399,\n",
       "        2.81997861, 3.0663779 , 3.02713713, 3.00107286, 2.95634995,\n",
       "        3.10825655, 3.30075934, 2.75873358, 3.25706852, 3.05715753,\n",
       "        3.1112844 , 2.71584945, 3.03378422, 3.37113425, 2.73004878,\n",
       "        2.50556793, 2.56415693, 3.06651754, 3.59624183, 3.28092281,\n",
       "        3.41815555, 3.0247873 , 3.34949909, 2.932188  , 3.15330105,\n",
       "        2.9331707 , 2.86267275, 3.03317707, 2.8809645 , 3.32711827,\n",
       "        3.04875332, 3.1000525 , 2.91559192, 3.31411807, 2.81700762,\n",
       "        3.16505789, 2.91228203, 2.76514166, 2.8776657 , 2.79885221,\n",
       "        2.94682559, 2.91521494, 3.07804248, 3.14128817, 2.96314494,\n",
       "        2.99352367, 3.07227355, 2.86503023, 3.17704   , 3.21055618,\n",
       "        3.0508952 , 3.59867592, 3.22936473, 2.97193188, 2.90945489,\n",
       "        2.94195444, 2.87456778, 3.28219629, 2.82554749, 2.97971945,\n",
       "        2.86767598, 3.26154571, 2.64536099, 2.9093752 , 2.96952358,\n",
       "        3.07983911, 3.11522573, 2.94605253, 3.24726811, 3.07868844,\n",
       "        3.61691276, 2.62291963, 3.15515017, 2.73871687, 2.8004978 ,\n",
       "        3.49627115, 3.43620354, 2.53595363, 2.94430658, 2.98353804,\n",
       "        2.46707197, 2.98779237, 3.0983353 , 3.05431629, 2.50140156,\n",
       "        3.27692706, 3.06113599, 2.98452199, 2.81152676, 3.17798975,\n",
       "        3.22956729, 2.87947672, 3.0223969 , 3.20674966, 2.51137197]])"
      ]
     },
     "execution_count": 94,
     "metadata": {},
     "output_type": "execute_result"
    }
   ],
   "source": [
    "np.random.seed(10)\n",
    "e1 = np.random.normal(3, 0.25, (1, 100))\n",
    "e1"
   ]
  },
  {
   "cell_type": "code",
   "execution_count": 83,
   "id": "e26b4fde-bc18-41d0-a501-b5ba087fdc14",
   "metadata": {},
   "outputs": [],
   "source": [
    "D2 = np.random.normal(3, 0.25, (100,))"
   ]
  },
  {
   "cell_type": "code",
   "execution_count": 84,
   "id": "b07b4ff1-780b-42ad-ae0e-dcffbe304f49",
   "metadata": {},
   "outputs": [
    {
     "data": {
      "text/plain": [
       "array([3.02936892, 2.52313578, 2.76927268, 3.11743786, 2.96390831,\n",
       "       2.89996541, 2.92600404, 3.21205215, 3.17670761, 2.80318277,\n",
       "       3.07323518, 2.88229819, 3.6010814 , 2.81516082, 2.92179281,\n",
       "       2.91277952, 2.89024344, 3.03527604, 3.06826233, 2.59535731,\n",
       "       2.85672166, 2.66988811, 3.30905133, 3.61633127, 3.34580806,\n",
       "       3.08655828, 3.25562903, 3.04170257, 3.41417916, 3.1669724 ,\n",
       "       2.94251334, 2.7176122 , 2.84000935, 3.07845763, 2.693541  ,\n",
       "       2.94455172, 3.33498158, 3.00732743, 3.49634644, 3.3617914 ,\n",
       "       2.92809265, 2.66017236, 2.98798967, 2.87980316, 3.09443827,\n",
       "       3.40360199, 2.71922399, 2.90281801, 3.08308749, 3.28374329,\n",
       "       3.1276786 , 3.10357441, 3.33613736, 3.12337883, 2.94074895,\n",
       "       3.01432129, 2.82323214, 3.13666621, 3.2356251 , 2.25510081,\n",
       "       3.30453721, 2.98586982, 3.11522211, 3.1655935 , 2.42622417,\n",
       "       2.70101767, 2.91672471, 2.80215231, 3.0685432 , 2.87127252,\n",
       "       2.5722322 , 3.15307433, 3.27503234, 3.14108813, 2.82180014,\n",
       "       2.93478513, 3.13710702, 3.15079976, 3.25171528, 2.9263935 ,\n",
       "       2.64477987, 2.83026331, 3.1334712 , 3.1859936 , 3.55626241,\n",
       "       3.02929536, 3.06115363, 2.95567529, 2.89856762, 3.1954438 ,\n",
       "       3.0883694 , 2.94818013, 2.73007565, 2.96923254, 2.90225445,\n",
       "       3.31379343, 3.23678152, 2.74442233, 3.29179209, 2.8570058 ])"
      ]
     },
     "execution_count": 84,
     "metadata": {},
     "output_type": "execute_result"
    }
   ],
   "source": [
    "D2"
   ]
  },
  {
   "cell_type": "code",
   "execution_count": 81,
   "id": "b80d7dd8-ad5f-48f1-896a-c258fa167393",
   "metadata": {},
   "outputs": [
    {
     "data": {
      "text/plain": [
       "array([[3.33289663, 3.17881974, 2.61364993, 2.99790404, 3.15533399,\n",
       "        2.81997861, 3.0663779 , 3.02713713, 3.00107286, 2.95634995,\n",
       "        3.10825655, 3.30075934, 2.75873358, 3.25706852, 3.05715753,\n",
       "        3.1112844 , 2.71584945, 3.03378422, 3.37113425, 2.73004878,\n",
       "        2.50556793, 2.56415693, 3.06651754, 3.59624183, 3.28092281,\n",
       "        3.41815555, 3.0247873 , 3.34949909, 2.932188  , 3.15330105,\n",
       "        2.9331707 , 2.86267275, 3.03317707, 2.8809645 , 3.32711827,\n",
       "        3.04875332, 3.1000525 , 2.91559192, 3.31411807, 2.81700762,\n",
       "        3.16505789, 2.91228203, 2.76514166, 2.8776657 , 2.79885221,\n",
       "        2.94682559, 2.91521494, 3.07804248, 3.14128817, 2.96314494,\n",
       "        2.99352367, 3.07227355, 2.86503023, 3.17704   , 3.21055618,\n",
       "        3.0508952 , 3.59867592, 3.22936473, 2.97193188, 2.90945489,\n",
       "        2.94195444, 2.87456778, 3.28219629, 2.82554749, 2.97971945,\n",
       "        2.86767598, 3.26154571, 2.64536099, 2.9093752 , 2.96952358,\n",
       "        3.07983911, 3.11522573, 2.94605253, 3.24726811, 3.07868844,\n",
       "        3.61691276, 2.62291963, 3.15515017, 2.73871687, 2.8004978 ,\n",
       "        3.49627115, 3.43620354, 2.53595363, 2.94430658, 2.98353804,\n",
       "        2.46707197, 2.98779237, 3.0983353 , 3.05431629, 2.50140156,\n",
       "        3.27692706, 3.06113599, 2.98452199, 2.81152676, 3.17798975,\n",
       "        3.22956729, 2.87947672, 3.0223969 , 3.20674966, 2.51137197]])"
      ]
     },
     "execution_count": 81,
     "metadata": {},
     "output_type": "execute_result"
    }
   ],
   "source": [
    "np.random.seed(10)\n",
    "D3 = np.random.normal(3, 0.25, (1, 100))\n",
    "D3"
   ]
  },
  {
   "cell_type": "code",
   "execution_count": 82,
   "id": "238ec14d-5d5b-420d-84c1-b8c35727ba8b",
   "metadata": {},
   "outputs": [
    {
     "data": {
      "text/plain": [
       "array([[3.33289663],\n",
       "       [3.17881974],\n",
       "       [2.61364993],\n",
       "       [2.99790404],\n",
       "       [3.15533399],\n",
       "       [2.81997861],\n",
       "       [3.0663779 ],\n",
       "       [3.02713713],\n",
       "       [3.00107286],\n",
       "       [2.95634995],\n",
       "       [3.10825655],\n",
       "       [3.30075934],\n",
       "       [2.75873358],\n",
       "       [3.25706852],\n",
       "       [3.05715753],\n",
       "       [3.1112844 ],\n",
       "       [2.71584945],\n",
       "       [3.03378422],\n",
       "       [3.37113425],\n",
       "       [2.73004878],\n",
       "       [2.50556793],\n",
       "       [2.56415693],\n",
       "       [3.06651754],\n",
       "       [3.59624183],\n",
       "       [3.28092281],\n",
       "       [3.41815555],\n",
       "       [3.0247873 ],\n",
       "       [3.34949909],\n",
       "       [2.932188  ],\n",
       "       [3.15330105],\n",
       "       [2.9331707 ],\n",
       "       [2.86267275],\n",
       "       [3.03317707],\n",
       "       [2.8809645 ],\n",
       "       [3.32711827],\n",
       "       [3.04875332],\n",
       "       [3.1000525 ],\n",
       "       [2.91559192],\n",
       "       [3.31411807],\n",
       "       [2.81700762],\n",
       "       [3.16505789],\n",
       "       [2.91228203],\n",
       "       [2.76514166],\n",
       "       [2.8776657 ],\n",
       "       [2.79885221],\n",
       "       [2.94682559],\n",
       "       [2.91521494],\n",
       "       [3.07804248],\n",
       "       [3.14128817],\n",
       "       [2.96314494],\n",
       "       [2.99352367],\n",
       "       [3.07227355],\n",
       "       [2.86503023],\n",
       "       [3.17704   ],\n",
       "       [3.21055618],\n",
       "       [3.0508952 ],\n",
       "       [3.59867592],\n",
       "       [3.22936473],\n",
       "       [2.97193188],\n",
       "       [2.90945489],\n",
       "       [2.94195444],\n",
       "       [2.87456778],\n",
       "       [3.28219629],\n",
       "       [2.82554749],\n",
       "       [2.97971945],\n",
       "       [2.86767598],\n",
       "       [3.26154571],\n",
       "       [2.64536099],\n",
       "       [2.9093752 ],\n",
       "       [2.96952358],\n",
       "       [3.07983911],\n",
       "       [3.11522573],\n",
       "       [2.94605253],\n",
       "       [3.24726811],\n",
       "       [3.07868844],\n",
       "       [3.61691276],\n",
       "       [2.62291963],\n",
       "       [3.15515017],\n",
       "       [2.73871687],\n",
       "       [2.8004978 ],\n",
       "       [3.49627115],\n",
       "       [3.43620354],\n",
       "       [2.53595363],\n",
       "       [2.94430658],\n",
       "       [2.98353804],\n",
       "       [2.46707197],\n",
       "       [2.98779237],\n",
       "       [3.0983353 ],\n",
       "       [3.05431629],\n",
       "       [2.50140156],\n",
       "       [3.27692706],\n",
       "       [3.06113599],\n",
       "       [2.98452199],\n",
       "       [2.81152676],\n",
       "       [3.17798975],\n",
       "       [3.22956729],\n",
       "       [2.87947672],\n",
       "       [3.0223969 ],\n",
       "       [3.20674966],\n",
       "       [2.51137197]])"
      ]
     },
     "execution_count": 82,
     "metadata": {},
     "output_type": "execute_result"
    }
   ],
   "source": [
    "np.random.seed(10)\n",
    "D4 = np.random.normal(3, 0.25, (100,1))\n",
    "D4"
   ]
  },
  {
   "cell_type": "code",
   "execution_count": 4,
   "id": "5aa6a8b9-57d2-46c4-acff-3a7061ee2ecd",
   "metadata": {},
   "outputs": [
    {
     "data": {
      "image/png": "[encoded data removed]",
      "text/plain": [
       "<Figure size 720x360 with 1 Axes>"
      ]
     },
     "metadata": {
      "needs_background": "light"
     },
     "output_type": "display_data"
    }
   ],
   "source": [
    "import matplotlib.pyplot as plt\n",
    "import numpy as np\n",
    "\n",
    "plt.style.use('_mpl-gallery')\n",
    "\n",
    "# make data:\n",
    "np.random.seed(10)\n",
    "data = np.random.normal((3, 5, 4), (0.25, 1.00, 3.00), (100, 3))\n",
    "#D = np.random.normal((0, 10, 100), (0.1, 0.1, 0.1), (100, 3))\n",
    "\n",
    "# plot\n",
    "fig, ax = plt.subplots(figsize=(10, 5))\n",
    "ax.boxplot(data)\n",
    "\n",
    "#ax.set(xlim=(0, 8), xticks=np.arange(1, 15),\n",
    " #     ylim=(0, 8), yticks=np.arange(1, 15))\n",
    "\n",
    "plt.show()"
   ]
  },
  {
   "cell_type": "code",
   "execution_count": 103,
   "id": "dc3b1742-3c4d-4b9d-b8c3-382a95085d1a",
   "metadata": {},
   "outputs": [
    {
     "data": {
      "text/plain": [
       "0.755299957952175"
      ]
     },
     "execution_count": 103,
     "metadata": {},
     "output_type": "execute_result"
    }
   ],
   "source": [
    "np.random.normal()"
   ]
  },
  {
   "cell_type": "code",
   "execution_count": 104,
   "id": "285d1540-70c4-4dc8-bbca-d65f3f6145c7",
   "metadata": {},
   "outputs": [
    {
     "data": {
      "text/plain": [
       "0.8794856905576622"
      ]
     },
     "execution_count": 104,
     "metadata": {},
     "output_type": "execute_result"
    }
   ],
   "source": [
    "np.random.standard_normal()"
   ]
  },
  {
   "cell_type": "code",
   "execution_count": 8,
   "id": "aed5e6f5-7251-4076-953c-067b3f51de3d",
   "metadata": {},
   "outputs": [],
   "source": [
    "D = np.random.normal((3, 5, 4))"
   ]
  },
  {
   "cell_type": "code",
   "execution_count": 10,
   "id": "8564318a-ec3d-44df-bdee-99cc7585f28a",
   "metadata": {},
   "outputs": [],
   "source": [
    "D = np.random.normal((1.25, 1.00, 1.25))"
   ]
  },
  {
   "cell_type": "code",
   "execution_count": 11,
   "id": "c29eab6a-289b-4955-9f02-c510512593ed",
   "metadata": {},
   "outputs": [
    {
     "data": {
      "text/plain": [
       "array([2.55848715, 3.66257747, 1.5927264 ])"
      ]
     },
     "execution_count": 11,
     "metadata": {},
     "output_type": "execute_result"
    }
   ],
   "source": [
    "D"
   ]
  },
  {
   "cell_type": "code",
   "execution_count": 12,
   "id": "926efb2c-6f9e-470d-9dee-65bb58fd8c46",
   "metadata": {},
   "outputs": [
    {
     "data": {
      "text/plain": [
       "array([0, 1, 2, 3, 4, 5, 6, 7, 8, 9])"
      ]
     },
     "execution_count": 12,
     "metadata": {},
     "output_type": "execute_result"
    }
   ],
   "source": [
    "a = np.arange(10)\n",
    "a"
   ]
  },
  {
   "cell_type": "code",
   "execution_count": 13,
   "id": "d543d41e-15f3-493c-8ae7-e24f3a3d7d21",
   "metadata": {},
   "outputs": [
    {
     "data": {
      "text/plain": [
       "numpy.ndarray"
      ]
     },
     "execution_count": 13,
     "metadata": {},
     "output_type": "execute_result"
    }
   ],
   "source": [
    "type(a)"
   ]
  },
  {
   "cell_type": "code",
   "execution_count": 14,
   "id": "0fe28222-5d55-4cab-a5bd-a4c8cf0f22bf",
   "metadata": {},
   "outputs": [
    {
     "data": {
      "text/plain": [
       "1"
      ]
     },
     "execution_count": 14,
     "metadata": {},
     "output_type": "execute_result"
    }
   ],
   "source": [
    "a[1]"
   ]
  },
  {
   "cell_type": "code",
   "execution_count": 15,
   "id": "20d6d42f-4889-4367-8a04-6f14623161a2",
   "metadata": {},
   "outputs": [
    {
     "data": {
      "text/plain": [
       "array([1, 2, 3, 4])"
      ]
     },
     "execution_count": 15,
     "metadata": {},
     "output_type": "execute_result"
    }
   ],
   "source": [
    "b = np.array([1, 2, 3, 4])\n",
    "b"
   ]
  },
  {
   "cell_type": "code",
   "execution_count": 16,
   "id": "acbb33c9-b158-45cb-9781-19590eb41acb",
   "metadata": {},
   "outputs": [
    {
     "data": {
      "text/plain": [
       "numpy.ndarray"
      ]
     },
     "execution_count": 16,
     "metadata": {},
     "output_type": "execute_result"
    }
   ],
   "source": [
    "type(b)"
   ]
  },
  {
   "cell_type": "code",
   "execution_count": 17,
   "id": "e225ab62-2a20-4c8f-a88d-4e7d4e115cab",
   "metadata": {},
   "outputs": [
    {
     "data": {
      "text/plain": [
       "[1, 2, 3, 4]"
      ]
     },
     "execution_count": 17,
     "metadata": {},
     "output_type": "execute_result"
    }
   ],
   "source": [
    "l = [1, 2, 3, 4]\n",
    "l"
   ]
  },
  {
   "cell_type": "code",
   "execution_count": 18,
   "id": "7224db66-f883-43cf-ba5c-9825f4cd25b2",
   "metadata": {},
   "outputs": [
    {
     "data": {
      "text/plain": [
       "list"
      ]
     },
     "execution_count": 18,
     "metadata": {},
     "output_type": "execute_result"
    }
   ],
   "source": [
    "type(l)"
   ]
  },
  {
   "cell_type": "code",
   "execution_count": 20,
   "id": "22232950-2cc7-4090-a6c4-e18ae5c31e79",
   "metadata": {},
   "outputs": [
    {
     "data": {
      "text/plain": [
       "array([1, 2, 3, 4])"
      ]
     },
     "execution_count": 20,
     "metadata": {},
     "output_type": "execute_result"
    }
   ],
   "source": [
    "b"
   ]
  },
  {
   "cell_type": "code",
   "execution_count": 21,
   "id": "d277c89f-17e6-4454-b755-d034d2bdd69c",
   "metadata": {},
   "outputs": [
    {
     "data": {
      "text/plain": [
       "numpy.ndarray"
      ]
     },
     "execution_count": 21,
     "metadata": {},
     "output_type": "execute_result"
    }
   ],
   "source": [
    "type(b)"
   ]
  },
  {
   "cell_type": "code",
   "execution_count": 26,
   "id": "9efd7165-dcb5-41db-b6cf-e5cebc4da13e",
   "metadata": {},
   "outputs": [
    {
     "data": {
      "text/plain": [
       "(4,)"
      ]
     },
     "execution_count": 26,
     "metadata": {},
     "output_type": "execute_result"
    }
   ],
   "source": [
    "b.shape"
   ]
  },
  {
   "cell_type": "code",
   "execution_count": 39,
   "id": "587c0c4d-949a-4ebf-8f9c-4db7b74bf3cd",
   "metadata": {},
   "outputs": [
    {
     "data": {
      "text/plain": [
       "array([[ 1,  2,  3,  4],\n",
       "       [ 5,  6,  7,  8],\n",
       "       [ 9, 10, 11, 12]], dtype=int64)"
      ]
     },
     "execution_count": 39,
     "metadata": {},
     "output_type": "execute_result"
    }
   ],
   "source": [
    "c = np.array([[1, 2, 3, 4],[5, 6, 7, 8],[9, 10, 11, 12]], dtype=np.int64)\n",
    "c"
   ]
  },
  {
   "cell_type": "code",
   "execution_count": null,
   "id": "6b428c94-4309-4919-8ff2-f9a4f7d4d9c8",
   "metadata": {},
   "outputs": [],
   "source": []
  },
  {
   "cell_type": "code",
   "execution_count": 40,
   "id": "9e586a09-05d4-4a1f-8867-6b52d73b6f77",
   "metadata": {},
   "outputs": [
    {
     "data": {
      "text/plain": [
       "dtype('int64')"
      ]
     },
     "execution_count": 40,
     "metadata": {},
     "output_type": "execute_result"
    }
   ],
   "source": [
    "c.dtype"
   ]
  },
  {
   "cell_type": "code",
   "execution_count": null,
   "id": "5b1f8a5b-d056-43a3-9cc7-6aea4cb3a975",
   "metadata": {},
   "outputs": [],
   "source": []
  },
  {
   "cell_type": "code",
   "execution_count": null,
   "id": "c18b440b-988e-477c-b0b5-9e5f3509c8d6",
   "metadata": {},
   "outputs": [],
   "source": []
  },
  {
   "cell_type": "code",
   "execution_count": null,
   "id": "b15a591a-f966-4b3b-9cee-990bb2cf3930",
   "metadata": {},
   "outputs": [],
   "source": []
  },
  {
   "cell_type": "code",
   "execution_count": 34,
   "id": "7eaccbf9-7986-4bfc-bc76-4ecb1379f072",
   "metadata": {},
   "outputs": [
    {
     "data": {
      "text/plain": [
       "(3, 4)"
      ]
     },
     "execution_count": 34,
     "metadata": {},
     "output_type": "execute_result"
    }
   ],
   "source": [
    "c.shape"
   ]
  },
  {
   "cell_type": "code",
   "execution_count": 35,
   "id": "97dde8be-c3eb-4fc4-aa31-91f60c8b503f",
   "metadata": {},
   "outputs": [
    {
     "data": {
      "text/plain": [
       "array([[[0, 1, 2, 3],\n",
       "        [4, 5, 6, 7]],\n",
       "\n",
       "       [[0, 1, 2, 3],\n",
       "        [4, 5, 6, 7]],\n",
       "\n",
       "       [[0, 1, 2, 3],\n",
       "        [4, 5, 6, 7]]])"
      ]
     },
     "execution_count": 35,
     "metadata": {},
     "output_type": "execute_result"
    }
   ],
   "source": [
    "e = np.array([[[0, 1, 2, 3],\n",
    "                           [4, 5, 6, 7]],\n",
    "\n",
    "                          [[0, 1, 2, 3],\n",
    "                           [4, 5, 6, 7]],\n",
    "\n",
    "                          [[0 ,1 ,2, 3],\n",
    "                           [4, 5, 6, 7]]])\n",
    "\n",
    "e"
   ]
  },
  {
   "cell_type": "code",
   "execution_count": null,
   "id": "39751edb-39d3-44ad-94d1-1642bf54179f",
   "metadata": {},
   "outputs": [],
   "source": []
  },
  {
   "cell_type": "code",
   "execution_count": null,
   "id": "5348e85c-af8e-4852-b838-fddc91e60dac",
   "metadata": {},
   "outputs": [],
   "source": []
  },
  {
   "cell_type": "code",
   "execution_count": null,
   "id": "f4b8e135-00e6-4f16-8d62-144540e1fba3",
   "metadata": {},
   "outputs": [],
   "source": []
  },
  {
   "cell_type": "code",
   "execution_count": null,
   "id": "ebfd8be1-0af8-42ca-bc8f-8811f9e42867",
   "metadata": {},
   "outputs": [],
   "source": []
  },
  {
   "cell_type": "code",
   "execution_count": 4,
   "id": "194985b5-87ce-408e-b06d-edb5eac3ea8c",
   "metadata": {},
   "outputs": [
    {
     "data": {
      "text/plain": [
       "(100, 3)"
      ]
     },
     "execution_count": 4,
     "metadata": {},
     "output_type": "execute_result"
    }
   ],
   "source": [
    "D.shape"
   ]
  },
  {
   "cell_type": "code",
   "execution_count": null,
   "id": "36630df4-039a-4a05-a132-31d80ef3423f",
   "metadata": {},
   "outputs": [],
   "source": []
  }
 ],
 "metadata": {
  "kernelspec": {
   "display_name": "Python 3 (ipykernel)",
   "language": "python",
   "name": "python3"
  },
  "language_info": {
   "codemirror_mode": {
    "name": "ipython",
    "version": 3
   },
   "file_extension": ".py",
   "mimetype": "text/x-python",
   "name": "python",
   "nbconvert_exporter": "python",
   "pygments_lexer": "ipython3",
   "version": "3.8.12"
  }
 },
 "nbformat": 4,
 "nbformat_minor": 5
}
